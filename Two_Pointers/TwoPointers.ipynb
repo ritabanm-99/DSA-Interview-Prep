{
  "nbformat": 4,
  "nbformat_minor": 0,
  "metadata": {
    "colab": {
      "provenance": []
    },
    "kernelspec": {
      "name": "python3",
      "display_name": "Python 3"
    },
    "language_info": {
      "name": "python"
    }
  },
  "cells": [
    {
      "cell_type": "markdown",
      "source": [
        "# Two Pointers\n",
        "\n",
        "Welcome to the second of my DSA Notebooks. In this notebook, I will be solving the most commonly asked Two Pointer pattern problems for technical interview preparation, Hope it helps!"
      ],
      "metadata": {
        "id": "yW9bqmhJa68M"
      }
    },
    {
      "cell_type": "markdown",
      "source": [
        "**1. Valid Palindrome:**\n",
        "A phrase is a palindrome if, after converting all uppercase letters into lowercase letters and removing all non-alphanumeric characters, it reads the same forward and backward. Alphanumeric characters include letters and numbers.\n",
        "\n",
        "Given a string s, return true if it is a palindrome, or false otherwise.\n",
        "\n",
        "\n",
        "***Example:***\n",
        "\n",
        "***Input:*** s = \"A man, a plan, a canal: Panama\"\n",
        "\n",
        "***Output:*** true\n",
        "\n",
        "***Explanation:*** \"amanaplanacanalpanama\" is a palindrome.\n",
        "\n",
        "**Reference:** https://leetcode.com/problems/valid-palindrome/?envType=study-plan-v2&envId=top-interview-150\n"
      ],
      "metadata": {
        "id": "UxPvCnGAbKln"
      }
    },
    {
      "cell_type": "code",
      "execution_count": 12,
      "metadata": {
        "colab": {
          "base_uri": "https://localhost:8080/"
        },
        "id": "yLWDPzexayL2",
        "outputId": "629422b4-6c80-4ba2-b680-7163d826c86c"
      },
      "outputs": [
        {
          "output_type": "stream",
          "name": "stdout",
          "text": [
            "True\n"
          ]
        }
      ],
      "source": [
        "def isPalindrome(s):\n",
        "    s = ''.join(filter(str.isalnum, s)).lower()  # Remove non-alphanumeric characters and convert to lowercase\n",
        "    return s == s[::-1]  # Check if the modified string is a palindrome when read forwards and backwards\n",
        "\n",
        "# Testing the function\n",
        "input_string = \"A man, a plan, a canal: Panama\"\n",
        "result = isPalindrome(input_string)\n",
        "print(result)  # Output: True (input_string is a palindrome)\n"
      ]
    },
    {
      "cell_type": "markdown",
      "source": [
        "***Algorithm:***\n",
        "\n",
        "The isPalindrome function takes a string s as input.\n",
        "It uses the filter function along with str.isalnum to extract only alphanumeric characters from the string and removes any non-alphanumeric characters.\n",
        "The lower() function is used to convert the filtered string to lowercase.\n",
        "The function checks if the filtered string is equal to its reverse, which determines if it's a palindrome.\n",
        "The example usage demonstrates the function by checking if the given input string is a valid palindrome and prints the result"
      ],
      "metadata": {
        "id": "uVW80o5ubj2I"
      }
    },
    {
      "cell_type": "markdown",
      "source": [
        "**2.  Is Subsequence**\n",
        "\n",
        "Given two strings s and t, return true if s is a subsequence of t, or false otherwise.\n",
        "\n",
        "A subsequence of a string is a new string that is formed from the original string by deleting some (can be none) of the characters without disturbing the relative positions of the remaining characters. (i.e., \"ace\" is a subsequence of \"abcde\" while \"aec\" is not).\n",
        "\n",
        "***Example:***\n",
        "\n",
        "***Input:*** s = \"abc\", t = \"ahbgdc\"\n",
        "\n",
        "***Output:*** true\n",
        "\n",
        "\n",
        "***Reference:*** https://leetcode.com/problems/is-subsequence/?envType=study-plan-v2&envId=top-interview-150"
      ],
      "metadata": {
        "id": "1zv9NqTUbp2N"
      }
    },
    {
      "cell_type": "code",
      "source": [
        "def isSubsequence(s, t):\n",
        "    s_ptr, t_ptr = 0, 0  # Initialize pointers for the subsequence and the target string\n",
        "\n",
        "    while s_ptr < len(s) and t_ptr < len(t):  # Loop while both pointers are within their respective strings\n",
        "        if s[s_ptr] == t[t_ptr]:  # If characters at current positions match\n",
        "            s_ptr += 1  # Move the subsequence pointer to the next character\n",
        "        t_ptr += 1  # Always move the target pointer to the next character\n",
        "\n",
        "    return s_ptr == len(s)  # Return True if the subsequence pointer reached the end of s\n",
        "\n",
        "# Testing the function\n",
        "s = \"abc\"\n",
        "t = \"ahbgdc\"\n",
        "result = isSubsequence(s, t)\n",
        "print(result)  # Output: True (s is a subsequence of t)\n"
      ],
      "metadata": {
        "colab": {
          "base_uri": "https://localhost:8080/"
        },
        "id": "eSAmCQpWbbgK",
        "outputId": "11d1e273-8b9c-4769-9bea-cf63895dac30"
      },
      "execution_count": 9,
      "outputs": [
        {
          "output_type": "stream",
          "name": "stdout",
          "text": [
            "True\n"
          ]
        }
      ]
    },
    {
      "cell_type": "markdown",
      "source": [
        "***Algorithm:***\n",
        "\n",
        "1. The isSubsequence function takes two strings s and t as inputs.\n",
        "\n",
        "2. It uses two pointers, s_ptr and t_ptr, to traverse through s and t respectively.\n",
        "\n",
        "3. While both pointers are within the lengths of their respective strings, it compares characters:\n",
        "If the characters at the current positions of s and t are equal, it moves the s_ptr forward.\n",
        "In any case, it moves the t_ptr forward.\n",
        "\n",
        "4. After the loop, the function checks if s_ptr has reached the end of s. If it has, then s is a subsequence of t.\n",
        "\n",
        "5. The example usage demonstrates the function by checking if the string \"abc\" is a subsequence of \"ahbgdc\" and prints the result."
      ],
      "metadata": {
        "id": "8wRpYPpFcGjK"
      }
    },
    {
      "cell_type": "markdown",
      "source": [
        "**3. Two Sum II - Input Array Is Sorted**\n",
        "\n",
        "Given a 1-indexed array of integers numbers that is already sorted in non-decreasing order, find two numbers such that they add up to a specific target number. Let these two numbers be numbers[index1] and numbers[index2] where 1 <= index1 < index2 < numbers.length.\n",
        "\n",
        "Return the indices of the two numbers, index1 and index2, added by one as an integer array [index1, index2] of length 2.\n",
        "\n",
        "The tests are generated such that there is exactly one solution. You may not use the same element twice.\n",
        "\n",
        "Your solution must use only constant extra space.\n",
        "\n",
        "**Example:**\n",
        "\n",
        "***Input***: numbers = [2,7,11,15], target = 9\n",
        "\n",
        "***Output:*** [1,2]\n",
        "\n",
        "***Explanation:*** The sum of 2 and 7 is 9. Therefore, index1 = 1, index2 = 2.We return [1, 2].\n",
        "\n",
        "***Reference***: https://leetcode.com/problems/two-sum-ii-input-array-is-sorted/?envType=study-plan-v2&envId=top-interview-150"
      ],
      "metadata": {
        "id": "qgiR1t3qcXT0"
      }
    },
    {
      "cell_type": "code",
      "source": [
        "def twoSum(numbers, target):\n",
        "    left, right = 0, len(numbers) - 1\n",
        "\n",
        "    while left < right:\n",
        "        current_sum = numbers[left] + numbers[right]\n",
        "\n",
        "        if current_sum == target:\n",
        "            return [left + 1, right + 1]  # Return indices (1-indexed) of the two numbers\n",
        "        elif current_sum < target:\n",
        "            left += 1  # Move the left pointer to increase the sum\n",
        "        else:\n",
        "            right -= 1  # Move the right pointer to decrease the sum\n",
        "\n",
        "    return None  # No solution found\n",
        "\n",
        "# Testing the function\n",
        "numbers = [2, 7, 11, 15]\n",
        "target = 9\n",
        "print(\"Numbers:\", numbers,\n",
        "      \"Target:\", target)\n",
        "result = twoSum(numbers, target)\n",
        "print(result)  # Output: [1, 2] (indices of the two numbers that add up to the target)\n"
      ],
      "metadata": {
        "colab": {
          "base_uri": "https://localhost:8080/"
        },
        "id": "ZVfrgw78cCGe",
        "outputId": "c2dcf643-48e7-42ed-8978-ae33b156ed89"
      },
      "execution_count": 10,
      "outputs": [
        {
          "output_type": "stream",
          "name": "stdout",
          "text": [
            "Numbers: [2, 7, 11, 15] Target: 9\n",
            "[1, 2]\n"
          ]
        }
      ]
    },
    {
      "cell_type": "markdown",
      "source": [
        "**Algorithm:**\n",
        "\n",
        "1. The twoSum function takes a sorted list of numbers and a target value as inputs.\n",
        "\n",
        "2. It uses two pointers, left and right, initialized to the start and end of the list respectively.\n",
        "\n",
        "3. In each iteration, it calculates the sum of the numbers at the current positions of left and right.\n",
        "\n",
        "4. If the current sum is equal to the target, it returns the indices (1-indexed) of the two numbers.\n",
        "\n",
        "5. If the current sum is less than the target, it moves the left pointer to the right to increase the sum.\n",
        "\n",
        "6. If the current sum is greater than the target, it moves the right pointer to the left to decrease the sum.\n",
        "\n",
        "7. If no solution is found, the function returns None.\n",
        "\n",
        "8. The example usage demonstrates the function by finding the indices of two numbers in the given sorted list that add up to the target value, and prints the result"
      ],
      "metadata": {
        "id": "yZv3oMJcdHOc"
      }
    },
    {
      "cell_type": "markdown",
      "source": [
        "**4. Three (3) Sum**\n",
        "\n",
        "Given an integer array nums, return all the triplets [nums[i], nums[j], nums[k]] such that i != j, i != k, and j != k, and nums[i] + nums[j] + nums[k] == 0.\n",
        "\n",
        "Notice that the solution set must not contain duplicate triplets.\n",
        "\n",
        "**Example:**\n",
        "\n",
        "***Input:*** nums = [-1,0,1,2,-1,-4]\n",
        "\n",
        "***Output:*** [[-1,-1,2],[-1,0,1]]\n",
        "\n",
        "***Explanation:***\n",
        "\n",
        "nums[0] + nums[1] + nums[2] = (-1) + 0 + 1 = 0.\n",
        "nums[1] + nums[2] + nums[4] = 0 + 1 + (-1) = 0.\n",
        "nums[0] + nums[3] + nums[4] = (-1) + 2 + (-1) = 0.\n",
        "The distinct triplets are [-1,0,1] and [-1,-1,2].\n",
        "\n",
        "Notice that the order of the output and the order of the triplets does not matter.\n",
        "\n",
        "***Reference:*** https://leetcode.com/problems/3sum/description/?envType=study-plan-v2&envId=top-interview-150"
      ],
      "metadata": {
        "id": "0LnN3dCYd3O0"
      }
    },
    {
      "cell_type": "code",
      "source": [
        "def threeSum(nums):\n",
        "    nums.sort()  # Sort the input array in non-decreasing order\n",
        "    result = []  # Initialize a list to store the resulting triplets\n",
        "\n",
        "    for i in range(len(nums) - 2):\n",
        "        if i > 0 and nums[i] == nums[i - 1]:\n",
        "            continue  # Skip duplicate values for i to avoid duplicate triplets\n",
        "\n",
        "        left, right = i + 1, len(nums) - 1  # Initialize two pointers for the remaining two elements\n",
        "\n",
        "        while left < right:\n",
        "            total = nums[i] + nums[left] + nums[right]  # Calculate the sum of current elements\n",
        "\n",
        "            if total < 0:\n",
        "                left += 1  # Move the left pointer to the right for a larger sum\n",
        "            elif total > 0:\n",
        "                right -= 1  # Move the right pointer to the left for a smaller sum\n",
        "            else:\n",
        "                result.append([nums[i], nums[left], nums[right]])  # Add the triplet to the result\n",
        "\n",
        "                # Skip duplicate values for both left and right pointers\n",
        "                while left < right and nums[left] == nums[left + 1]:\n",
        "                    left += 1\n",
        "                while left < right and nums[right] == nums[right - 1]:\n",
        "                    right -= 1\n",
        "\n",
        "                left += 1\n",
        "                right -= 1\n",
        "\n",
        "    return result  # Return the list of triplets\n",
        "\n",
        "# Testing the function\n",
        "nums = [-1, 0, 1, 2, -1, -4]\n",
        "print(\"List\",nums)\n",
        "result = threeSum(nums)\n",
        "print(\"Triplets:\",result)  # Output: [[-1, -1, 2], [-1, 0, 1]]\n"
      ],
      "metadata": {
        "colab": {
          "base_uri": "https://localhost:8080/"
        },
        "id": "lVZZcGpYc6wf",
        "outputId": "fe5e8ed5-1ec9-4405-b385-f7f77229731d"
      },
      "execution_count": 18,
      "outputs": [
        {
          "output_type": "stream",
          "name": "stdout",
          "text": [
            "List [-1, 0, 1, 2, -1, -4]\n",
            "Triplets: [[-1, -1, 2], [-1, 0, 1]]\n"
          ]
        }
      ]
    },
    {
      "cell_type": "markdown",
      "source": [
        "**Algorithm:**\n",
        "1. Sort the input array in non-decreasing order to facilitate finding triplets.\n",
        "\n",
        "2. Loop through the array with index i as a potential first element of the triplet.\n",
        "\n",
        "3. Skip duplicate values for i to avoid duplicate triplets.\n",
        "\n",
        "4. Initialize two pointers, left and right, for the remaining two elements.\n",
        "\n",
        "5. Calculate the sum of the current elements using the three pointers.\n",
        "\n",
        "6. Depending on the sum, move the left and right pointers to adjust the total.\n",
        "\n",
        "7. When the sum is zero, add the current triplet to the result.\n",
        "\n",
        "8. Skip duplicate values for both the left and right pointers to avoid duplicate triplets.\n",
        "\n",
        "9. Move the left and right pointers accordingly.\n",
        "\n",
        "10. Return the list of triplets as the result."
      ],
      "metadata": {
        "id": "591KhNJEdbsD"
      }
    },
    {
      "cell_type": "markdown",
      "source": [
        "**5. Container with the most water**\n",
        "\n",
        "You are given an integer array height of length n. There are n vertical lines drawn such that the two endpoints of the ith line are (i, 0) and (i, height[i]).\n",
        "\n",
        "Find two lines that together with the x-axis form a container, such that the container contains the most water.\n",
        "\n",
        "Return the maximum amount of water a container can store.\n",
        "\n",
        "Notice that you may not slant the container.\n",
        "\n",
        "**Example**\n",
        "\n",
        "***Input:*** height = [1,8,6,2,5,4,8,3,7]\n",
        "\n",
        "***Output:*** 49\n",
        "\n",
        "***Explanation:*** The above vertical lines are represented by array [1,8,6,2,5,4,8,3,7]. In this case, the max area of water (blue section) the container can contain is 49.\n",
        "\n",
        "***Reference:*** https://leetcode.com/problems/container-with-most-water/submissions/?envType=study-plan-v2&envId=top-interview-150"
      ],
      "metadata": {
        "id": "MB3OyFsSfL6v"
      }
    },
    {
      "cell_type": "code",
      "source": [
        "def maxArea(height):\n",
        "        left, right = 0, len(height) - 1  # Initialize pointers at the start and end of the height list\n",
        "        max_area = 0  # Initialize the maximum area\n",
        "\n",
        "        while left < right:\n",
        "            h = min(height[left], height[right])  # Get the smaller of the two heights\n",
        "            w = right - left  # Calculate the width of the container\n",
        "            area = h * w  # Calculate the area\n",
        "\n",
        "            max_area = max(max_area, area)  # Update the maximum area\n",
        "\n",
        "            if height[left] < height[right]:\n",
        "                left += 1  # Move the left pointer to the right for a potentially larger height\n",
        "            else:\n",
        "                right -= 1  # Move the right pointer to the left for a potentially larger height\n",
        "\n",
        "        return max_area  # Return the maximum area found\n",
        "\n",
        "# Example usage\n",
        "height = [1, 8, 6, 2, 5, 4, 8, 3, 7]\n",
        "print(height)\n",
        "print(maxArea(height))# Output: 49 (maximum area of the container)\n"
      ],
      "metadata": {
        "colab": {
          "base_uri": "https://localhost:8080/"
        },
        "id": "hgIg3cs_eiDZ",
        "outputId": "f2d8780a-c32e-417a-d3db-3569630b1835"
      },
      "execution_count": 26,
      "outputs": [
        {
          "output_type": "stream",
          "name": "stdout",
          "text": [
            "[1, 8, 6, 2, 5, 4, 8, 3, 7]\n",
            "49\n"
          ]
        }
      ]
    }
  ]
}