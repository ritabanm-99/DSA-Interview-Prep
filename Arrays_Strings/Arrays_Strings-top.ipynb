{
  "nbformat": 4,
  "nbformat_minor": 0,
  "metadata": {
    "colab": {
      "provenance": []
    },
    "kernelspec": {
      "name": "python3",
      "display_name": "Python 3"
    },
    "language_info": {
      "name": "python"
    }
  },
  "cells": [
    {
      "cell_type": "markdown",
      "source": [
        "# Arrays & Strings:\n",
        "\n",
        "#### Welcome to the first of my DSA Notebooks. In this notebook, I will be solving the most commonly asked Arrays & Strings problems for technical interview preparation, Hope it helps!\n"
      ],
      "metadata": {
        "id": "iDdg5_4zfomr"
      }
    },
    {
      "cell_type": "markdown",
      "source": [
        "1. **Two Sum:**\n",
        "\n",
        "\n",
        "**Problem Statement-** Given an array of integers nums and an integer target, return indices of the two numbers such that they add up to target.\n",
        "\n",
        "You may assume that each input would have exactly one solution, and you may not use the same element twice.\n",
        "\n",
        "You can return the answer in any order.\n",
        "\n",
        "***Reference:*** https://leetcode.com/problems/two-sum/\n",
        "\n",
        "Solution:"
      ],
      "metadata": {
        "id": "7J4wlM9mgMkg"
      }
    },
    {
      "cell_type": "code",
      "execution_count": null,
      "metadata": {
        "colab": {
          "base_uri": "https://localhost:8080/"
        },
        "id": "TORkrkmIfkQO",
        "outputId": "553472c4-68b2-4eb0-96bf-e00f7e9b0025"
      },
      "outputs": [
        {
          "output_type": "stream",
          "name": "stdout",
          "text": [
            "(21, 60)\n"
          ]
        }
      ],
      "source": [
        "#Defining a function to take in a list and target value\n",
        "def two_sum_soln(nums, target):\n",
        "  #N is going to be used while defining the number of times our loops will run.\n",
        "    N = len(nums)\n",
        "    #The loop below this comment will be the first pointer to traverse through the list.\n",
        "    for i in range(N):\n",
        "        val_at_i = nums[i]\n",
        "        #The loop below this comment will be the second pointer to traverse through the list.\n",
        "        for j in range(N):\n",
        "            val_at_j = nums[j]\n",
        "            #The conditional if statement checks if the sum of the values at the pointers matches the target and if they are unique.\n",
        "            if (val_at_i + val_at_j) == target and i != j:\n",
        "                return (val_at_i, val_at_j)\n",
        "\n",
        "#Testing the function.\n",
        "nums = [1,21,3,14,5,60,7,6]\n",
        "target = 81\n",
        "print(two_sum_soln(nums, target))"
      ]
    },
    {
      "cell_type": "markdown",
      "source": [
        "\n",
        "***Algorithm:***\n",
        "\n",
        "This is an implementation of the 2 pointer pattern, where two pointers are used to solve the problem, in this case two pointers make note of the values at 2 distinct positions on the list and the sum of the values held at the location of the pointer is compared to the target value. If the sum of the values gives us the target value, we return the values at the indices.\n"
      ],
      "metadata": {
        "id": "W4XN6YdehX4L"
      }
    },
    {
      "cell_type": "markdown",
      "source": [
        "**2.Merging 2 sorted lists:**\n",
        "\n",
        "You are given the heads of two sorted linked lists list1 and list2.\n",
        "\n",
        "Merge the two lists into one sorted list. The list should be made by splicing together the nodes of the first two lists.\n",
        "\n",
        "Return the head of the merged linked list.\n",
        "\n",
        "**Reference:** https://leetcode.com/problems/merge-two-sorted-lists/\n"
      ],
      "metadata": {
        "id": "R4HH99b2-q45"
      }
    },
    {
      "cell_type": "code",
      "source": [
        "#function merge_lists1 is defined with two lists as parameters.\n",
        "def merge_lists1(lst1, lst2):\n",
        "  #extend() method is used to iterate over an iterable (string, tuple, list, set, or dictionary) and then add each element of the iterable to the end of the current list.\n",
        "    lst1.extend(lst2)\n",
        "    #the list is then sorted & returned.\n",
        "    lst1.sort()\n",
        "    return lst1\n",
        "\n",
        "#testing the function with lst1, lst2 and a function call.\n",
        "lst1 = [1,2,4]\n",
        "lst2 = [1,3,4]\n",
        "merge_lists1(lst1, lst2)"
      ],
      "metadata": {
        "id": "eVKylGt4hRuc",
        "colab": {
          "base_uri": "https://localhost:8080/"
        },
        "outputId": "2e8a86e2-8cd0-45dc-a151-e5b5c6f3ba42"
      },
      "execution_count": null,
      "outputs": [
        {
          "output_type": "execute_result",
          "data": {
            "text/plain": [
              "[1, 1, 2, 3, 4, 4]"
            ]
          },
          "metadata": {},
          "execution_count": 8
        }
      ]
    },
    {
      "cell_type": "markdown",
      "source": [
        "***Algorithm:***\n",
        "This solution defines a function called merge_lists1 that takes two lists, lst1 and lst2, as parameters. The function first uses the extend() method to append all elements from lst2 to the end of lst1. Then, it sorts the modified lst1 in ascending order using the sort() method. Finally, the sorted and merged list is returned. In the given example, lst1 contains [1, 2, 4] and lst2 contains [1, 3, 4]. When the function merge_lists1(lst1, lst2) is called, it would return [1, 1, 2, 3, 4, 4]."
      ],
      "metadata": {
        "id": "hFLVmP9hLLRD"
      }
    },
    {
      "cell_type": "markdown",
      "source": [
        "3. **Three Sum Problem**: Given an integer array nums, return all the triplets [nums[i], nums[j], nums[k]] such that i != j, i != k, and j != k, and nums[i] + nums[j] + nums[k] == 0.\n",
        "\n",
        "\n",
        "\n",
        "Notice that the solution set must not contain duplicate triplets.\n",
        "\n",
        "**Example:**\n",
        "\n",
        "**Input:** nums = [-1,0,1,2,-1,-4]\n",
        "\n",
        "**Output:** [[-1,-1,2],[-1,0,1]]\n",
        "\n",
        "**Explanation:**\n",
        "\n",
        "nums[0] + nums[1] + nums[2] = (-1) + 0 + 1 = 0.\n",
        "nums[1] + nums[2] + nums[4] = 0 + 1 + (-1) = 0.\n",
        "nums[0] + nums[3] + nums[4] = (-1) + 2 + (-1) = 0.\n",
        "The distinct triplets are [-1,0,1] and [-1,-1,2].\n",
        "\n",
        "**Reference:** https://leetcode.com/problems/3sum/"
      ],
      "metadata": {
        "id": "ke_mTIfBAut8"
      }
    },
    {
      "cell_type": "code",
      "source": [
        "nums = [-1,0,1,2,-1,-4]\n",
        "#defining the function with nums and target as the input parameters.\n",
        "def threeSum(nums, target):\n",
        "    combinations = []\n",
        "    nums.sort()\n",
        "    N = len(nums)\n",
        "    for i in range(0, N-2):\n",
        "        right_p = i + 1\n",
        "        left_p = N-1\n",
        "#using two pointers pattern to compare the elements in the list.\n",
        "        while (right_p < left_p):\n",
        "            x, y, z = nums[right_p], nums[i], nums[left_p]\n",
        "            triplet = x + y + z\n",
        "#appending the the triplet to the combinations list if it adds up to the target.\n",
        "            if triplet == target:\n",
        "                combinations.append((x,y,z))\n",
        "                break\n",
        "            elif triplet < target:\n",
        "                right_p += 1\n",
        "            elif triplet > target:\n",
        "                left_p -= 1\n",
        "    return combinations\n",
        "#testing the function.\n",
        "print(threeSum(nums, 0))"
      ],
      "metadata": {
        "colab": {
          "base_uri": "https://localhost:8080/"
        },
        "id": "ky-r87ya_Zo5",
        "outputId": "7b8df161-8316-4d41-e486-9d6360685b8a"
      },
      "execution_count": null,
      "outputs": [
        {
          "output_type": "stream",
          "name": "stdout",
          "text": [
            "[(-1, -1, 2), (0, -1, 1)]\n"
          ]
        }
      ]
    },
    {
      "cell_type": "markdown",
      "source": [
        "**Algorithm**\n",
        "\n",
        "The function called threeSum aims to find unique triplets from a given list of integers nums, whose sum equals a given target value. The algorithm starts by sorting the input list in ascending order. It then iterates through each element in the sorted list, using a two-pointer approach to search for triplets that sum up to the target value. The outer loop iterates over the possible candidates for the first element of the triplet. Inside this loop, two pointers, right_p and left_p, are initialized to positions just after the current element and at the end of the list, respectively. The algorithm calculates the sum of the three elements pointed to by these pointers and compares it with the target value. If the sum is equal to the target, the triplet is added to the combinations list. If the sum is less than the target, the right_p pointer is moved one step to the right to consider a larger value. If the sum is greater than the target, the left_p pointer is moved one step to the left to consider a smaller value. The algorithm continues this process until the pointers cross each other or until all possible triplets have been checked for the current starting element. Finally, the algorithm returns the list of unique triplets that sum up to the target value. The provided example call to threeSum(nums, 0) aims to find triplets that sum up to 0 in the given nums list."
      ],
      "metadata": {
        "id": "OvoHMBxYz9il"
      }
    },
    {
      "cell_type": "markdown",
      "source": [
        "**3. Text Justification**\n",
        "\n",
        "\n",
        "**Problem Statement:**\n",
        "\n",
        "Given an array of strings words and a width maxWidth, format the text such that each line has exactly maxWidth characters and is fully (left and right) justified.\n",
        "\n",
        "You should pack your words in a greedy approach; that is, pack as many words as you can in each line. Pad extra spaces ' ' when necessary so that each line has exactly maxWidth characters.\n",
        "\n",
        "Extra spaces between words should be distributed as evenly as possible. If the number of spaces on a line does not divide evenly between words, the empty slots on the left will be assigned more spaces than the slots on the right.\n",
        "\n",
        "For the last line of text, it should be left-justified, and no extra space is inserted between words.\n",
        "\n",
        "Note:\n",
        "\n",
        "A word is defined as a character sequence consisting of non-space characters only.\n",
        "Each word's length is guaranteed to be greater than 0 and not exceed maxWidth.\n",
        "The input array words contains at least one word.\n",
        "\n",
        "\n",
        "**Example 1:**\n",
        "\n",
        "**Input:** words = [\"This\", \"is\", \"an\", \"example\", \"of\", \"text\", \"justification.\"], maxWidth = 16\n",
        "\n",
        "**Output:**\n",
        "[\n",
        "   \"This    is    an\",\n",
        "   \"example  of text\",\n",
        "   \"justification.  \"\n",
        "]\n",
        "\n",
        "**Reference**: https://leetcode.com/problems/text-justification/description/?envType=study-plan-v2&envId=top-interview-150"
      ],
      "metadata": {
        "id": "peBm5tuN5sMB"
      }
    },
    {
      "cell_type": "code",
      "source": [
        "#defining a function fullJustify with the parameters words and maxwidth.\n",
        "def fullJustify(self, words, maxWidth):\n",
        "    res, cur, num_of_letters = [], [], 0\n",
        "    for w in words:\n",
        "        if num_of_letters + len(w) + len(cur) > maxWidth:\n",
        "            for i in range(maxWidth - num_of_letters):\n",
        "                cur[i%(len(cur)-1 or 1)] += ' '\n",
        "            res.append(''.join(cur))\n",
        "            cur, num_of_letters = [], 0\n",
        "        cur += [w]\n",
        "        num_of_letters += len(w)\n",
        "    return res + [' '.join(cur).ljust(maxWidth)]"
      ],
      "metadata": {
        "id": "7_79B8j47e4V"
      },
      "execution_count": null,
      "outputs": []
    },
    {
      "cell_type": "markdown",
      "source": [
        "\n",
        "**Algorithm and Explanation:**\n",
        "\n"
      ],
      "metadata": {
        "id": "pdJjlCq05JFL"
      }
    },
    {
      "cell_type": "markdown",
      "source": [
        "res, cur, and num_of_letters are initialized to empty list, empty list, and zero respectively. res will hold the result of formatted lines, cur will store the current line's words, and num_of_letters will keep track of the total number of letters in the current line.\n",
        "\n",
        "The code iterates through each word in the words list.\n",
        "\n",
        "If adding the length of the current word and the total length of words in the current line (len(cur)) to num_of_letters exceeds the maxWidth, it means the line is full, and the code proceeds to justify the line.\n",
        "\n",
        "A loop is used to distribute extra spaces within the line to reach the maxWidth. The line's words are iterated through, and extra spaces are added to each word. The modulo operation (i % (len(cur) - 1 or 1)) ensures that spaces are evenly distributed among the words, with the special case len(cur) - 1 or 1 handling the situation where there's only one word in the line.\n",
        "\n",
        "The justified line, constructed by adding spaces to the words, is appended to the res list.\n",
        "\n",
        "After justifying a line, cur and num_of_letters are reset to empty lists and zero respectively to start building the next line.\n",
        "\n",
        "The current word is appended to the cur list, and its length is added to num_of_letters.\n",
        "\n",
        "The loop continues, processing the next word.\n",
        "\n",
        "Finally, when all words have been processed, the last line (which may not be fully justified) is handled. The words are joined with single spaces, and ljust is applied to pad the line to the maxWidth.\n",
        "\n",
        "The last line is appended to the res list.\n",
        "\n",
        "The method returns the list of formatted lines contained in res.\n",
        "\n",
        "This implementation efficiently manages line building, word addition, and space distribution to achieve text justification within the given width."
      ],
      "metadata": {
        "id": "brfER3sI79DF"
      }
    },
    {
      "cell_type": "markdown",
      "source": [
        "**4. Remove Element:**\n",
        "\n",
        "Given an integer array nums and an integer val, remove all occurrences of val in nums in-place. The order of the elements may be changed. Then return the number of elements in nums which are not equal to val.\n",
        "\n",
        "Consider the number of elements in nums which are not equal to val be k, to get accepted, you need to do the following things:\n",
        "\n",
        "Change the array nums such that the first k elements of nums contain the elements which are not equal to val. The remaining elements of nums are not important as well as the size of nums.\n",
        "Return k.\n",
        "\n",
        "**Example:**\n",
        "\n",
        "**Input:** nums = [3,2,2,3], val = 3\n",
        "\n",
        "**Output:** 2, nums = [2,2,_,_]\n",
        "\n",
        "**Explanation:** Your function should return k = 2, with the first two elements of nums being 2.\n",
        "It does not matter what you leave beyond the returned k (hence they are underscores).\n",
        "\n",
        "**Reference:** https://leetcode.com/problems/remove-element/?envType=study-plan-v2&envId=top-interview-150"
      ],
      "metadata": {
        "id": "bg1GHz-V839k"
      }
    },
    {
      "cell_type": "code",
      "source": [
        "#defining the function with two parameters nums and val.\n",
        "def removeEle(nums, val):\n",
        "  # checking if the value exisits in the list nums, if yes it is removed.\n",
        "  while val in nums:\n",
        "    nums.remove(val)\n",
        "\n",
        "#testing the function:\n",
        "nums = [3,2,2,3]\n",
        "val = 3"
      ],
      "metadata": {
        "id": "0CdkbqQ2MGDv"
      },
      "execution_count": 12,
      "outputs": []
    },
    {
      "cell_type": "markdown",
      "source": [
        "**Algorithm:**\n",
        "This code defines a class Solution with a method removeElement that modifies a given list nums by removing all occurrences of the value val. It uses a two-pointer approach, where one pointer iterates through the list and another pointer keeps track of the valid position for elements not equal to val. When an element is found that's not equal to val, it's placed at the valid position and the position is incremented. The method returns the length of the modified list, representing the count of valid elements. This approach achieves in-place removal of val and provides the count of remaining valid elements."
      ],
      "metadata": {
        "id": "APeD1nDeLnTW"
      }
    },
    {
      "cell_type": "markdown",
      "source": [
        "**5. Removing duplicates from a sorted array:**\n",
        "\n",
        "Given an integer array nums sorted in non-decreasing order, remove the duplicates in-place such that each unique element appears only once. The relative order of the elements should be kept the same. Then return the number of unique elements in nums.\n",
        "\n",
        "Consider the number of unique elements of nums to be k, to get accepted, you need to do the following things:\n",
        "\n",
        "Change the array nums such that the first k elements of nums contain the unique elements in the order they were present in nums initially. The remaining elements of nums are not important as well as the size of nums.\n",
        "Return k.\n",
        "\n",
        "\n",
        "**Example:**\n",
        "\n",
        "***Input:*** nums = [1,1,2]\n",
        "\n",
        "***Output:*** 2, nums = [1,2,_]\n",
        "\n",
        "***Explanation:*** Your function should return k = 2, with the first two elements of nums being 1 and 2 respectively.\n",
        "It does not matter what you leave beyond the returned k (hence they are underscores).\n",
        "\n",
        "**Reference:**\n",
        "https://leetcode.com/problems/remove-duplicates-from-sorted-array/?envType=study-plan-v2&envId=top-interview-150"
      ],
      "metadata": {
        "id": "Jh1zIprnOIN8"
      }
    },
    {
      "cell_type": "code",
      "source": [
        "#defining the function to remove duplicates\n",
        "def removeDuplicates(nums):\n",
        "  #i, j are two pointers used to denote the positions in the list.\n",
        "  i = 0\n",
        "  j = 1\n",
        "  #while the conditions are true, we append the counter for the i,j pointers\n",
        "  while i<=j and j<=len(nums):\n",
        "    if nums[i] != nums[j]:\n",
        "      nums[i+1] = nums[j]\n",
        "    i+=1\n",
        "    j+=1\n",
        "    return i+1\n",
        "nums = [1,1,2]\n",
        "print(\"Original list: \",nums)\n",
        "print(\"After Removing duplicates:\", removeDuplicates(nums))"
      ],
      "metadata": {
        "id": "Cq2UUpmrBElC",
        "colab": {
          "base_uri": "https://localhost:8080/"
        },
        "outputId": "ca5db675-45ae-4459-ba19-26ff46fbae35"
      },
      "execution_count": 24,
      "outputs": [
        {
          "output_type": "stream",
          "name": "stdout",
          "text": [
            "Original list:  [1, 1, 2]\n",
            "After Removing duplicates: 2\n"
          ]
        }
      ]
    },
    {
      "cell_type": "markdown",
      "source": [
        "**Algorithm:**\n",
        "In this code, two pointers (i,j) have been used to check the values stored i the list and to compare if there are duplicates. While the conditions are true, the pointers are incremented and the list is returned."
      ],
      "metadata": {
        "id": "HNAKD6y1QFLh"
      }
    },
    {
      "cell_type": "markdown",
      "source": [
        "**6.  Remove Duplicates from Sorted Array II**\n",
        "\n",
        "Given an integer array nums sorted in non-decreasing order, remove some duplicates in-place such that each unique element appears at most twice. The relative order of the elements should be kept the same.\n",
        "\n",
        "Since it is impossible to change the length of the array in some languages, you must instead have the result be placed in the first part of the array nums. More formally, if there are k elements after removing the duplicates, then the first k elements of nums should hold the final result. It does not matter what you leave beyond the first k elements.\n",
        "\n",
        "Return k after placing the final result in the first k slots of nums.\n",
        "\n",
        "Do not allocate extra space for another array. You must do this by modifying the input array in-place with O(1) extra memory.\n",
        "\n",
        "**Example 1:**\n",
        "\n",
        "***Input:*** nums = [1,1,1,2,2,3]\n",
        "\n",
        "***Output:*** nums = [1,1,2,2,3,_]\n",
        "\n",
        "**Explanation**: Your function should return k = 5, with the first five elements of nums being 1, 1, 2, 2 and 3 respectively.\n",
        "It does not matter what you leave beyond the returned k (hence they are underscores).\n",
        "\n",
        "\n",
        "**Reference:** https://leetcode.com/problems/remove-duplicates-from-sorted-array-ii/description/?envType=study-plan-v2&envId=top-interview-150\n"
      ],
      "metadata": {
        "id": "PBhIrTb4QmpB"
      }
    },
    {
      "cell_type": "code",
      "source": [
        "#defining the function with input parameter of list nums.\n",
        "def removeDuplicates2(nums):\n",
        "        count = 1\n",
        "        l = 1\n",
        "        #using two pointers to traverse through the elements in the list.\n",
        "        for r in range(1, len(nums)):\n",
        "            if nums[r] == nums[r - 1]:\n",
        "                count += 1\n",
        "            else:\n",
        "                count = 1\n",
        "            if count <= 2:\n",
        "                nums[l] = nums[r]\n",
        "                l += 1\n",
        "        return l\n",
        "#testing the function\n",
        "nums = [1,1,1,2,2,3]\n",
        "print(\"Original List:\", nums)\n",
        "print(\"Original length of List\",len(nums))\n",
        "print(\"length of list after removing duplicates:\",removeDuplicates2(nums))\n"
      ],
      "metadata": {
        "id": "T2EhOjBO77Lv",
        "colab": {
          "base_uri": "https://localhost:8080/"
        },
        "outputId": "b5b27813-0637-4d98-bda4-e4e6160bacef"
      },
      "execution_count": 51,
      "outputs": [
        {
          "output_type": "stream",
          "name": "stdout",
          "text": [
            "Original List: [1, 1, 1, 2, 2, 3]\n",
            "Original length of List 6\n",
            "length of list after removing duplicates: 5\n"
          ]
        }
      ]
    },
    {
      "cell_type": "markdown",
      "source": [
        "**Algorithm:**\n",
        "\n",
        "This code defines a function removeDuplicates2(nums) that removes duplicates from a sorted list nums while allowing at most two occurrences of each element. It uses two pointers to traverse the list, where l indicates the position for placing valid elements and r iterates through the list. The variable count tracks the consecutive occurrences of the current element. When a new element is encountered, count is reset. If the count is less than or equal to 2, the element is placed at the l-th position, and l is incremented. The function returns the value of l, representing the length of the modified list. When applied to the example list [1, 1, 1, 2, 2, 3], it would return 5 and modify the list to [1, 1, 2, 2, 3]."
      ],
      "metadata": {
        "id": "9zV65Cl7WRBm"
      }
    },
    {
      "cell_type": "markdown",
      "source": [
        "**7.Majority Element**\n",
        "\n",
        "Given an array nums of size n, return the majority element.\n",
        "\n",
        "The majority element is the element that appears more than ⌊n / 2⌋ times. You may assume that the majority element always exists in the array.\n",
        "\n",
        "***Example:***\n",
        "\n",
        "***Input:*** nums = [3,2,3]\n",
        "\n",
        "***Output:*** 3"
      ],
      "metadata": {
        "id": "nq3lnRioWtnQ"
      }
    },
    {
      "cell_type": "code",
      "source": [
        "#defining the function with one input parameter of type list, called nums.\n",
        "def majorityElement(nums):\n",
        "  return sorted(nums)[len(nums)//2]\n",
        "\n",
        "#testing the function\n",
        "nums = [3,2,3]\n",
        "print(\"Original list:\",nums)\n",
        "print(\"Max element in the list:\", majorityElement(nums))"
      ],
      "metadata": {
        "colab": {
          "base_uri": "https://localhost:8080/"
        },
        "id": "JN9dKNcCUNMP",
        "outputId": "4603c1a3-9486-4643-a5e9-0b563c6e59e7"
      },
      "execution_count": 56,
      "outputs": [
        {
          "output_type": "stream",
          "name": "stdout",
          "text": [
            "Original list: [3, 2, 3]\n",
            "Max element in the list: 3\n"
          ]
        }
      ]
    },
    {
      "cell_type": "markdown",
      "source": [
        "**Algorithm:**\n",
        "\n",
        "The code defines a function majorityElement(nums) that identifies the majority element in a list by sorting it and returning the element at the middle index. In the example list [3, 2, 3], the majority element (3) is returned since it appears more than half the length of the list."
      ],
      "metadata": {
        "id": "zkN4oFr-Xs47"
      }
    },
    {
      "cell_type": "markdown",
      "source": [
        "8. **Rotate Array**\n",
        "\n",
        "Given an integer array nums, rotate the array to the right by k steps, where k is non-negative.\n",
        "\n",
        "**Example:**\n",
        "\n",
        "**Input:** nums = [1,2,3,4,5,6,7], k = 3\n",
        "\n",
        "**Output:** [5,6,7,1,2,3,4]\n",
        "\n",
        "**Explanation:**\n",
        "\n",
        "rotate 1 steps to the right: [7,1,2,3,4,5,6]\n",
        "rotate 2 steps to the right: [6,7,1,2,3,4,5]\n",
        "rotate 3 steps to the right: [5,6,7,1,2,3,4]\n",
        "\n",
        "**Reference:**\n",
        "https://leetcode.com/problems/rotate-array/description/?envType=study-plan-v2&envId=top-interview-150"
      ],
      "metadata": {
        "id": "GSlqREv8YH3v"
      }
    },
    {
      "cell_type": "code",
      "source": [
        "#defining the function with two parameters: a list nums and the rotating factor k.\n",
        "def rotate(nums, k):\n",
        "    nums[:] = (nums[:-k % len(nums)][::-1] + nums[-k % len(nums):][::-1])[::-1]\n",
        "\n",
        "# testing the function\n",
        "nums = [1, 2, 3, 4, 5, 6, 7]\n",
        "print(\"Original list:\", nums)\n",
        "k = 3\n",
        "print(\"Rotation steps:\", k)\n",
        "rotate(nums, k)\n",
        "print(\"Rotated list:\", nums)\n"
      ],
      "metadata": {
        "colab": {
          "base_uri": "https://localhost:8080/"
        },
        "id": "5FBhq-gVXM75",
        "outputId": "4b4d64b5-8842-41f1-ac56-c4d9cb381a8a"
      },
      "execution_count": 97,
      "outputs": [
        {
          "output_type": "stream",
          "name": "stdout",
          "text": [
            "Original list: [1, 2, 3, 4, 5, 6, 7]\n",
            "Rotation steps: 3\n",
            "Rotated list: [5, 6, 7, 1, 2, 3, 4]\n"
          ]
        }
      ]
    },
    {
      "cell_type": "markdown",
      "source": [
        "**Algorithm**\n",
        "The code defines a function rotate(nums, k) that rotates the given list nums to the right by k steps. It uses list slicing and concatenation to achieve this. The list is split into two parts: elements before the rotation point and elements to be rotated. These two parts are reversed individually, concatenated in reverse order, and then assigned back to nums to modify the list in-place. When applied to the example list [1, 2, 3, 4, 5, 6, 7] with k = 3, it rotates the list to [5, 6, 7, 1, 2, 3, 4]."
      ],
      "metadata": {
        "id": "TZMCrHCncGBh"
      }
    },
    {
      "cell_type": "markdown",
      "source": [
        "9.  **Best Time to Buy and Sell Stock**\n",
        "\n",
        "You are given an array prices where prices[i] is the price of a given stock on the ith day.\n",
        "\n",
        "You want to maximize your profit by choosing a single day to buy one stock and choosing a different day in the future to sell that stock.\n",
        "\n",
        "Return the maximum profit you can achieve from this transaction. If you cannot achieve any profit, return 0.\n",
        "\n",
        "\n",
        "**Example**:\n",
        "\n",
        "***Input:*** prices = [7,1,5,3,6,4]\n",
        "\n",
        "***Output***: 5\n",
        "\n",
        "***Explanation:*** Buy on day 2 (price = 1) and sell on day 5 (price = 6), profit = 6-1 = 5.\n",
        "Note that buying on day 2 and selling on day 1 is not allowed because you must buy before you sell.\n",
        "\n",
        "**Reference:** https://leetcode.com/problems/best-time-to-buy-and-sell-stock/?envType=study-plan-v2&envId=top-interview-150"
      ],
      "metadata": {
        "id": "r7j0LLmzcR0M"
      }
    },
    {
      "cell_type": "code",
      "source": [
        "def maxProfit(prices):\n",
        "        l,r=0,1;maxPrice=0\n",
        "        while r<len(prices):\n",
        "            if prices[l]<prices[r]:profit=prices[r]-prices[l];maxPrice=max(maxPrice, profit)\n",
        "            else:l=r\n",
        "            r+=1\n",
        "        return maxPrice\n",
        "prices=[7,1,5,3,6,4]\n",
        "print(\"Prices:\",prices)\n",
        "print(\"Max profit:\", maxProfit(prices))\n",
        ""
      ],
      "metadata": {
        "colab": {
          "base_uri": "https://localhost:8080/"
        },
        "id": "mtzgm_41ZAtv",
        "outputId": "fcdb9c53-c8e3-4e70-bd86-e5d6c8b74714"
      },
      "execution_count": 109,
      "outputs": [
        {
          "output_type": "stream",
          "name": "stdout",
          "text": [
            "Prices: [7, 1, 5, 3, 6, 4]\n",
            "Max profit: 5\n"
          ]
        }
      ]
    },
    {
      "cell_type": "markdown",
      "source": [
        "**Algorithm:**\n",
        "\n",
        "This code defines a function maxProfit(prices) to find the maximum profit that can be obtained by buying and selling stocks based on the given list of prices. It uses two pointers, l and r, to track the buying and selling points, respectively. The loop iterates through the list and compares the prices[l] (buying price) with prices[r] (selling price).\n",
        "\n",
        " If the selling price is higher, it calculates the profit and updates maxPrice to store the maximum profit seen so far. If the selling price is not higher, it updates the buying pointer l to the current selling index r. The loop continues to the next day.\n",
        "\n",
        " The function returns the maxPrice, representing the maximum profit that could be made. When applied to the example prices [7, 1, 5, 3, 6, 4], it would return the maximum profit, which is 5."
      ],
      "metadata": {
        "id": "vAEL4s5GeTQe"
      }
    },
    {
      "cell_type": "markdown",
      "source": [
        "**10. Best Time to Buy and Sell Stock II**\n",
        "\n",
        "You are given an integer array prices where prices[i] is the price of a given stock on the ith day.\n",
        "\n",
        "On each day, you may decide to buy and/or sell the stock. You can only hold at most one share of the stock at any time. However, you can buy it then immediately sell it on the same day.\n",
        "\n",
        "Find and return the maximum profit you can achieve.\n",
        "\n",
        "\n",
        "**Example:**\n",
        "\n",
        "***Input:*** prices = [7,1,5,3,6,4]\n",
        "\n",
        "***Output:*** 7\n",
        "\n",
        "***Explanation:*** Buy on day 2 (price = 1) and sell on day 3 (price = 5), profit = 5-1 = 4.\n",
        "Then buy on day 4 (price = 3) and sell on day 5 (price = 6), profit = 6-3 = 3.\n",
        "Total profit is 4 + 3 = 7.\n",
        "\n",
        "**Reference:** https://leetcode.com/problems/best-time-to-buy-and-sell-stock-ii/description/?envType=study-plan-v2&envId=top-interview-150"
      ],
      "metadata": {
        "id": "Tui975hbe4Hg"
      }
    },
    {
      "cell_type": "code",
      "source": [
        "def maxProfit(prices):\n",
        "    result = 0\n",
        "    for i in range(len(prices)-1):\n",
        "        if prices[i] < prices[i+1]:\n",
        "            result += prices[i+1] - prices[i]\n",
        "    return result\n",
        "\n",
        "prices = [7, 1, 5, 3, 6, 4]\n",
        "print(\"Prices:\", prices)\n",
        "print(\"Max Profit:\", maxProfit(prices))\n"
      ],
      "metadata": {
        "colab": {
          "base_uri": "https://localhost:8080/"
        },
        "id": "XMeOH2K6cz96",
        "outputId": "cb0e0c3c-8ea5-4096-b882-5d78269bda27"
      },
      "execution_count": 118,
      "outputs": [
        {
          "output_type": "stream",
          "name": "stdout",
          "text": [
            "Prices: [7, 1, 5, 3, 6, 4]\n",
            "Max Profit: 7\n"
          ]
        }
      ]
    },
    {
      "cell_type": "markdown",
      "source": [
        "**Algorithm:**\n",
        "\n",
        "This code defines a function maxProfit that calculates the maximum profit achievable by buying and selling stocks using a list of prices. It iterates through the list, comparing prices of consecutive days. If the price of the current day is lower than the price of the next day, it adds the difference between the two prices to the result. The function returns the cumulative profit from all profitable transactions. When applied to the example prices [7, 1, 5, 3, 6, 4], it would print the maximum profit achievable, which is 7 (buy at 1, sell at 5; buy at 3, sell at 6)."
      ],
      "metadata": {
        "id": "8NKKWP36gddl"
      }
    },
    {
      "cell_type": "markdown",
      "source": [
        "**11. Jump Game**\n",
        "\n",
        "You are given an integer array nums. You are initially positioned at the array's first index, and each element in the array represents your maximum jump length at that position.\n",
        "\n",
        "Return true if you can reach the last index, or false otherwise.\n",
        "\n",
        "**Example:**\n",
        "\n",
        "**Input:** nums = [2,3,1,1,4]\n",
        "\n",
        "**Output:** true\n",
        "\n",
        "**Explanation:** Jump 1 step from index 0 to 1, then 3 steps to the last index.\n",
        "\n",
        "**Reference:** https://leetcode.com/problems/jump-game/description/?envType=study-plan-v2&envId=top-interview-150"
      ],
      "metadata": {
        "id": "hvAyBkiHhI6D"
      }
    },
    {
      "cell_type": "code",
      "source": [
        "#a function canJump is defined with one parameter nums which is a list.\n",
        "def canJump(nums):\n",
        "    destination = len(nums) - 1  # The original destination is the last index.\n",
        "\n",
        "    # Checking backwards\n",
        "    for i in range(len(nums) - 2, -1, -1):\n",
        "        # If we can jump to or beyond the current destination, the destination is updated.\n",
        "        if i + nums[i] >= destination:\n",
        "            destination = i\n",
        "\n",
        "    # Checking if we can reach from the first index to the modified destination\n",
        "    return True if destination == 0 else False\n",
        "\n",
        "#testing the function\n",
        "nums = [2,3,1,1,4]\n",
        "print(nums)\n",
        "print(canJump(nums))"
      ],
      "metadata": {
        "colab": {
          "base_uri": "https://localhost:8080/"
        },
        "id": "65YdzTidfvu3",
        "outputId": "e72ebbb2-07dc-4835-c478-41b752f8ac62"
      },
      "execution_count": 122,
      "outputs": [
        {
          "output_type": "stream",
          "name": "stdout",
          "text": [
            "[2, 3, 1, 1, 4]\n",
            "True\n"
          ]
        }
      ]
    },
    {
      "cell_type": "markdown",
      "source": [
        "**Algorithm:**\n",
        "The code defines a function canJump(nums) to determine if it's possible to reach the end of a list of jump distances nums using jumps. It iterates backward through the list, starting from the second-to-last index. It updates a destination variable whenever the current index allows reaching the current destination. If after the loop, destination becomes 0, the function returns True, indicating successful navigation from the start to the end using jumps; otherwise, it returns False."
      ],
      "metadata": {
        "id": "P6cS0X8kik_y"
      }
    },
    {
      "cell_type": "markdown",
      "source": [
        "**12. Jump Game II:**\n",
        "You are given a 0-indexed array of integers nums of length n. You are initially positioned at nums[0].\n",
        "\n",
        "Each element nums[i] represents the maximum length of a forward jump from index i. In other words, if you are at nums[i], you can jump to any nums[i + j] where:\n",
        "\n",
        "0 <= j <= nums[i] and\n",
        "i + j < n\n",
        "Return the minimum number of jumps to reach nums[n - 1]. The test cases are generated such that you can reach nums[n - 1].\n",
        "\n",
        "**Example:**\n",
        "\n",
        "**Input:** nums = [2,3,1,1,4]\n",
        "\n",
        "**Output:** 2\n",
        "\n",
        "**Explanation:** The minimum number of jumps to reach the last index is 2. Jump 1 step from index 0 to 1, then 3 steps to the last index.\n",
        "\n",
        "**Reference:** https://leetcode.com/problems/jump-game-ii/?envType=study-plan-v2&envId=top-interview-150"
      ],
      "metadata": {
        "id": "6EC6YFpAi-oI"
      }
    },
    {
      "cell_type": "code",
      "source": [
        "def jump(nums):\n",
        "    jumps = 0            # Initialize the count of jumps taken\n",
        "    next = 0              # Initialize the farthest reachable position\n",
        "    current = 0           # Initialize the current position\n",
        "    i = 0                 # Initialize the index for iteration\n",
        "    n = len(nums)         # Get the length of the input list 'nums'\n",
        "\n",
        "    for i in range(0, n-1):\n",
        "        next = max(next, i + nums[i])  # Update 'next' to the maximum reachable position\n",
        "\n",
        "        if current == i:                # If we've reached the current position\n",
        "            jumps += 1                   # Increment the jump count\n",
        "            current = next               # Move 'current' to the updated 'next'\n",
        "\n",
        "  # Return the total count of jumps taken\n",
        "    return jumps\n",
        "\n",
        "nums = [2, 3, 1, 1, 4]\n",
        "print(nums)\n",
        "print(jump(nums))\n"
      ],
      "metadata": {
        "colab": {
          "base_uri": "https://localhost:8080/"
        },
        "id": "C_IQcxahiPrA",
        "outputId": "2a613108-f122-4495-c0f4-285ccdfe3e7c"
      },
      "execution_count": 127,
      "outputs": [
        {
          "output_type": "stream",
          "name": "stdout",
          "text": [
            "[2, 3, 1, 1, 4]\n",
            "2\n"
          ]
        }
      ]
    },
    {
      "cell_type": "markdown",
      "source": [
        "**Algorithm:**\n",
        "This code defines a function jump(nums) to determine the minimum number of jumps needed to traverse a list of jump distances nums. It maintains variables jumps (jump count), next (farthest reachable position), and current (current position). The loop iterates through the list, updating next to track the farthest reachable position. When current is reached, the jump count is incremented, and current is moved to the updated next. The function returns the total jump count. For the input [2, 3, 1, 1, 4], it would return 2, representing the minimum jumps required to reach the end"
      ],
      "metadata": {
        "id": "0L75aS4UkF4j"
      }
    },
    {
      "cell_type": "markdown",
      "source": [
        "\n",
        "**13. H-Index**\n",
        "\n",
        "Given an array of integers citations where citations[i] is the number of citations a researcher received for their ith paper, return the researcher's h-index.\n",
        "\n",
        "According to the definition of h-index on Wikipedia: The h-index is defined as the maximum value of h such that the given researcher has published at least h papers that have each been cited at least h times.\n",
        "\n",
        "**Example:**\n",
        "\n",
        "***Input:*** citations = [3,0,6,1,5]\n",
        "\n",
        "***Output:*** 3\n",
        "\n",
        "***Explanation***: [3,0,6,1,5] means the researcher has 5 papers in total and each of them had received 3, 0, 6, 1, 5 citations respectively.\n",
        "Since the researcher has 3 papers with at least 3 citations each and the remaining two with no more than 3 citations each, their h-index is 3.\n",
        "\n",
        "**Reference:** https://leetcode.com/problems/h-index/?envType=study-plan-v2&envId=top-interview-150"
      ],
      "metadata": {
        "id": "QUMlOgyEkbRC"
      }
    },
    {
      "cell_type": "code",
      "source": [
        "def HIndex(citations):\n",
        "    citations.sort(reverse=True)  # Sorting the citations list in descending order\n",
        "    i = 0                         # Initializing the index for iteration\n",
        "\n",
        "    while i < len(citations):\n",
        "        if citations[i] <= i:     # Checking if the current citation value is less than or equal to its position\n",
        "            return i              # Return the calculated h-index value\n",
        "        i += 1                    # Move to the next position\n",
        "\n",
        "    return len(citations)         # If no suitable h-index is found, return the length of the citations list\n",
        "\n",
        "citations = [3, 0, 6, 1, 5]\n",
        "print(citations)\n",
        "print(HIndex(citations))\n"
      ],
      "metadata": {
        "colab": {
          "base_uri": "https://localhost:8080/"
        },
        "id": "4MvDTyr0jnw8",
        "outputId": "e045779a-4e2a-4ba2-d064-45e33b4dd99e"
      },
      "execution_count": 134,
      "outputs": [
        {
          "output_type": "stream",
          "name": "stdout",
          "text": [
            "[3, 0, 6, 1, 5]\n",
            "3\n"
          ]
        }
      ]
    },
    {
      "cell_type": "markdown",
      "source": [
        "**Algorithm:**\n",
        "\n",
        "The code defines a function HIndex(citations) to find the h-index of a researcher using their citation counts. It sorts citations in descending order and iterates through them, comparing each citation to its index. When a citation is less than or equal to its index, the h-index is found, and the index is returned. The loop increments the index, and if no h-index is found, the length of the citations list is returned. The code tests this function with [3, 0, 6, 1, 5] and prints the result."
      ],
      "metadata": {
        "id": "WTZpK-HWmWnN"
      }
    },
    {
      "cell_type": "markdown",
      "source": [
        "**14. Insert Delete GetRandom O(1):**\n",
        "\n",
        "Implement the RandomizedSet class:\n",
        "\n",
        "RandomizedSet() Initializes the RandomizedSet object.\n",
        "bool insert(int val) Inserts an item val into the set if not present. Returns true if the item was not present, false otherwise.\n",
        "bool remove(int val) Removes an item val from the set if present. Returns true if the item was present, false otherwise.\n",
        "int getRandom() Returns a random element from the current set of elements (it's guaranteed that at least one element exists when this method is called). Each element must have the same probability of being returned.\n",
        "You must implement the functions of the class such that each function works in average O(1) time complexity.\n",
        "\n",
        "\n",
        "**Input**\n",
        "\n",
        "[\"RandomizedSet\", \"insert\", \"remove\", \"insert\", \"getRandom\", \"remove\", \"insert\", \"getRandom\"]\n",
        "[[], [1], [2], [2], [], [1], [2], []]\n",
        "\n",
        "**Output**\n",
        "\n",
        "[null, true, false, true, 2, true, false, 2]\n",
        "\n",
        "**Explanation**\n",
        "RandomizedSet randomizedSet = new RandomizedSet();\n",
        "randomizedSet.insert(1); // Inserts 1 to the set. Returns true as 1 was inserted successfully.\n",
        "randomizedSet.remove(2); // Returns false as 2 does not exist in the set.\n",
        "randomizedSet.insert(2); // Inserts 2 to the set, returns true. Set now contains [1,2].\n",
        "randomizedSet.getRandom(); // getRandom() should return either 1 or 2 randomly.\n",
        "randomizedSet.remove(1); // Removes 1 from the set, returns true. Set now contains [2].\n",
        "randomizedSet.insert(2); // 2 was already in the set, so return false.\n",
        "randomizedSet.getRandom(); // Since 2 is the only number in the set, getRandom() will always return 2.\n",
        "\n",
        "**Reference:** https://leetcode.com/problems/insert-delete-getrandom-o1/?envType=study-plan-v2&envId=top-interview-150"
      ],
      "metadata": {
        "id": "6-l3nwhcnci-"
      }
    },
    {
      "cell_type": "code",
      "source": [
        "class RandomizedSet:\n",
        "\n",
        "  def __init__(self):\n",
        "    \"\"\"\n",
        "    Initialize your data structure here.\n",
        "    \"\"\"\n",
        "    self.val_to_index = {}  # Hash table to store values and their indices in the array\n",
        "    self.vals = []          # Array to store the actual values\n",
        "\n",
        "  def insert(self, val: int) -> bool:\n",
        "    \"\"\"\n",
        "    Inserts a value to the set. Returns true if the set did not already contain the specified element.\n",
        "    \"\"\"\n",
        "    if val in self.val_to_index:    # If the value already exists in the hash table, return false\n",
        "        return False\n",
        "    self.val_to_index[val] = len(self.vals)    # Add the value to the hash table with its index in the array\n",
        "    self.vals.append(val)           # Append the value to the end of the array\n",
        "    return True                     # Return true to indicate success\n",
        "\n",
        "  def remove(self, val: int) -> bool:\n",
        "    \"\"\"\n",
        "    Removes a value from the set. Returns true if the set contained the specified element.\n",
        "    \"\"\"\n",
        "    if val not in self.val_to_index:    # If the value does not exist in the hash table, return false\n",
        "        return False\n",
        "    index = self.val_to_index[val]      # Get the index of the value in the array\n",
        "    last_val = self.vals[-1]            # Get the last value in the array\n",
        "    self.vals[index] = last_val         # Swap the value at the index with the last value in the array\n",
        "    self.val_to_index[last_val] = index # Update the index of the last value in the hash table\n",
        "    self.vals.pop()                     # Remove the last value from the array\n",
        "    del self.val_to_index[val]           # Remove the removed value from the hash table\n",
        "    return True                          # Return true to indicate success\n",
        "\n",
        "  def getRandom(self) -> int:\n",
        "    \"\"\"\n",
        "    Get a random element from the set.\n",
        "    \"\"\"\n",
        "    return random.choice(self.vals)     # Return a random value from the array"
      ],
      "metadata": {
        "id": "OxQHcLxxlUJX"
      },
      "execution_count": 143,
      "outputs": []
    },
    {
      "cell_type": "markdown",
      "source": [
        "**Algorithm:**\n",
        "\n",
        "This code defines a class RandomizedSet that implements a set-like data structure with insertion, removal, and random element retrieval operations. The class uses two main data structures: a hash table (val_to_index) to store values and their indices in the array, and an array (vals) to store the actual values.\n",
        "\n",
        "__init__(self): Initializes the data structures.\n",
        "\n",
        "insert(self, val): Inserts a value into the set. Returns True if the value was inserted (not already in the set), and False otherwise.\n",
        "\n",
        "remove(self, val): Removes a value from the set. Returns True if the value was removed (present in the set), and False otherwise.\n",
        "\n",
        "getRandom(self): Retrieves a random element from the set by choosing a random value from the array.\n",
        "\n",
        "The insertion and removal methods maintain both the hash table and the array to ensure efficient operations, and the random retrieval method uses random.choice() to pick a random value from the array.\n",
        "\n",
        "This data structure is designed to provide constant time complexity for insertion, removal, and random element retrieval, making it suitable for cases where these operations need to be efficient and fast."
      ],
      "metadata": {
        "id": "qQiKyOA-pp-c"
      }
    },
    {
      "cell_type": "markdown",
      "source": [
        "**15. Product of Array Except Self**\n",
        "\n",
        "Given an integer array nums, return an array answer such that answer[i] is equal to the product of all the elements of nums except nums[i].\n",
        "\n",
        "The product of any prefix or suffix of nums is guaranteed to fit in a 32-bit integer.\n",
        "\n",
        "You must write an algorithm that runs in O(n) time and without using the division operation.\n",
        "\n",
        "**Example:**\n",
        "\n",
        "**Input:** nums = [1,2,3,4]\n",
        "\n",
        "**Output:** [24,12,8,6]\n",
        "\n",
        "**Reference:**https://leetcode.com/problems/product-of-array-except-self/?envType=study-plan-v2&envId=top-interview-150"
      ],
      "metadata": {
        "id": "JvZbxZoopy96"
      }
    },
    {
      "cell_type": "code",
      "source": [
        "def productExceptSelf(nums):\n",
        "        result = [1 for _ in range(len(nums))]  # Initialize a list to store the results\n",
        "\n",
        "        cumulative_product = 1  # Initialize a variable to track the cumulative product\n",
        "\n",
        "        # Calculate the cumulative product of elements to the left of each index\n",
        "        for i in range(1, len(nums)):\n",
        "            cumulative_product = cumulative_product * nums[i - 1]\n",
        "            result[i] = result[i] * cumulative_product\n",
        "\n",
        "        cumulative_product = 1  # Reset the cumulative product\n",
        "\n",
        "        # Calculate the cumulative product of elements to the right of each index and update the result\n",
        "        for i in range(len(nums) - 2, -1, -1):\n",
        "            cumulative_product = cumulative_product * nums[i + 1]\n",
        "            result[i] = result[i] * cumulative_product\n",
        "\n",
        "        return result  # Return the final list of product except self\n",
        "\n",
        "#testing the function\n",
        "nums = [1,2,3,4]\n",
        "print(nums)\n",
        "print(productExceptSelf(nums))"
      ],
      "metadata": {
        "colab": {
          "base_uri": "https://localhost:8080/"
        },
        "id": "2POk5wlzogZX",
        "outputId": "360d28ee-18e9-41eb-f1db-c295b0cd6f4e"
      },
      "execution_count": 155,
      "outputs": [
        {
          "output_type": "stream",
          "name": "stdout",
          "text": [
            "[1, 2, 3, 4]\n",
            "[24, 12, 8, 6]\n"
          ]
        }
      ]
    },
    {
      "cell_type": "markdown",
      "source": [
        "**Algorithm:**\n",
        "\n",
        "This code defines a function productExceptSelf(nums) that calculates a list of products for each index in the input list nums, excluding the element at that index. It does this by maintaining two passes over the input list: the first pass calculates the cumulative product of elements to the left of each index, and the second pass calculates the cumulative product of elements to the right of each index. The final result list contains the desired product values. When applied to the example input [1, 2, 3, 4], it would return [24, 12, 8, 6], which are products of elements except the one at the corresponding index."
      ],
      "metadata": {
        "id": "okBEl83qqoOP"
      }
    },
    {
      "cell_type": "markdown",
      "source": [
        "**16. Gas Station:**\n",
        "\n",
        "There are n gas stations along a circular route, where the amount of gas at the ith station is gas[i].\n",
        "\n",
        "You have a car with an unlimited gas tank and it costs cost[i] of gas to travel from the ith station to its next (i + 1)th station. You begin the journey with an empty tank at one of the gas stations.\n",
        "\n",
        "Given two integer arrays gas and cost, return the starting gas station's index if you can travel around the circuit once in the clockwise direction, otherwise return -1. If there exists a solution, it is guaranteed to be unique\n",
        "\n",
        "**Example:**\n",
        "\n",
        "**Input:** gas = [1,2,3,4,5], cost = [3,4,5,1,2]\n",
        "\n",
        "**Output:** 3\n",
        "\n",
        "**Explanation:**\n",
        "\n",
        "Start at station 3 (index 3) and fill up with 4 unit of gas. Your tank = 0 + 4 = 4\n",
        "Travel to station 4. Your tank = 4 - 1 + 5 = 8\n",
        "Travel to station 0. Your tank = 8 - 2 + 1 = 7\n",
        "Travel to station 1. Your tank = 7 - 3 + 2 = 6\n",
        "Travel to station 2. Your tank = 6 - 4 + 3 = 5\n",
        "Travel to station 3. The cost is 5. Your gas is just enough to travel back to station 3.\n",
        "Therefore, return 3 as the starting index.\n",
        "\n",
        "**Reference:** https://leetcode.com/problems/gas-station/?envType=study-plan-v2&envId=top-interview-150"
      ],
      "metadata": {
        "id": "5283hdRUrHpr"
      }
    },
    {
      "cell_type": "code",
      "source": [
        "def canCompleteCircuit(gas, cost):\n",
        "        if sum(gas) < sum(cost):   # Check if total gas is less than total cost\n",
        "            return -1              # If true, return -1 as it's impossible to complete the circuit\n",
        "\n",
        "        start = 0                   # Initialize the starting point\n",
        "        tank = 0                     # Initialize the tank balance\n",
        "\n",
        "        for i in range(len(gas)):\n",
        "            tank += gas[i] - cost[i]  # Update the tank balance by adding gas and subtracting cost\n",
        "\n",
        "            if tank < 0:              # If tank becomes negative (not enough fuel to move)\n",
        "                start = i + 1          # Update the starting point to the next station\n",
        "                tank = 0                # Reset the tank balance\n",
        "\n",
        "        return start                 # Return the starting point of the circuit\n",
        "\n",
        "# Testing the function\n",
        "gas = [1, 2, 3, 4,5]\n",
        "cost = [3,4,5,1,2]\n",
        "print(canCompleteCircuit(gas, cost))\n"
      ],
      "metadata": {
        "colab": {
          "base_uri": "https://localhost:8080/"
        },
        "id": "M5h7jFXNqKVf",
        "outputId": "84b231f0-d992-4c6f-daac-53b4977ef387"
      },
      "execution_count": 157,
      "outputs": [
        {
          "output_type": "stream",
          "name": "stdout",
          "text": [
            "3\n"
          ]
        }
      ]
    },
    {
      "cell_type": "markdown",
      "source": [
        "**Algorithm:**\n",
        "\n",
        "The function canCompleteCircuit(gas, cost) checks if a circular route can be completed by a car given gas availability and the cost to travel between stations. It first ensures that the total available gas is greater than or equal to the total cost to ensure the circuit can be completed. Then, it iterates through the gas and cost arrays, maintaining a tank balance representing the difference between available gas and cost. If the tank balance goes negative at any station, it means there's not enough fuel to move forward, so it updates the start point to the next station and resets the tank balance. The function returns the start point where the car can complete the circuit. For the given gas and cost arrays, it would return 3, indicating the starting point to complete the circular route."
      ],
      "metadata": {
        "id": "N7Ub6It1slmr"
      }
    },
    {
      "cell_type": "markdown",
      "source": [
        "**17. Candy**\n",
        "\n",
        "There are n children standing in a line. Each child is assigned a rating value given in the integer array ratings.\n",
        "\n",
        "You are giving candies to these children subjected to the following requirements:\n",
        "\n",
        "Each child must have at least one candy.\n",
        "Children with a higher r}r of candies you need to have to distribute the candies to the children.\n",
        "\n",
        "**Example:**\n",
        "\n",
        "***Input:*** ratings = [1,0,2]\n",
        "\n",
        "***Output:*** 5\n",
        "\n",
        "***Explanation:*** You can allocate to the first, second and third child with 2, 1, 2 candies respectively.\n",
        "\n",
        "**Reference**: https://leetcode.com/problems/candy/?envType=study-plan-v2&envId=top-interview-150"
      ],
      "metadata": {
        "id": "thTzRGqzsuij"
      }
    },
    {
      "cell_type": "code",
      "source": [
        "def candy(ratings):\n",
        "    n = len(ratings)\n",
        "    candies = [1] * n\n",
        "\n",
        "    # Traversing from left to right to ensure ascending ratings get more candies\n",
        "    for i in range(1, n):\n",
        "        if ratings[i] > ratings[i - 1]:\n",
        "            candies[i] = candies[i - 1] + 1\n",
        "\n",
        "    # Traversing from right to left to ensure descending ratings get more candies\n",
        "    for i in range(n - 2, -1, -1):\n",
        "        if ratings[i] > ratings[i + 1]:\n",
        "            candies[i] = max(candies[i], candies[i + 1] + 1)\n",
        "\n",
        "    return sum(candies)\n",
        "\n",
        "# Testing the function\n",
        "ratings = [1, 0, 2]\n",
        "print(ratings)\n",
        "print(candy(ratings))  # Output: 5\n"
      ],
      "metadata": {
        "colab": {
          "base_uri": "https://localhost:8080/"
        },
        "id": "WkUPObmBsRz1",
        "outputId": "d38c90d5-e540-4cce-8252-261688a28687"
      },
      "execution_count": 160,
      "outputs": [
        {
          "output_type": "stream",
          "name": "stdout",
          "text": [
            "[1, 0, 2]\n",
            "5\n"
          ]
        }
      ]
    },
    {
      "cell_type": "markdown",
      "source": [
        "**Algorithm:**\n",
        "The `candy` function calculates the minimum number of candies needed to distribute among children based on their ratings. It uses two passes through the `ratings` list:\n",
        "\n",
        "1. In the first pass, it traverses from left to right. If the rating of a child is higher than the previous child, it assigns one more candy than the previous child. This ensures that children with higher ratings get more candies than their left neighbors.\n",
        "\n",
        "2. In the second pass, it traverses from right to left. If the rating of a child is higher than the next child and the current assigned candy count is not already greater, it assigns one more candy than the next child. This ensures that children with higher ratings also get more candies than their right neighbors.\n",
        "\n",
        "The function returns the sum of all candies assigned, which represents the minimum total number of candies needed to satisfy the given ratings while meeting the conditions. In the example ratings list `[1, 0, 2]`, the output is `5` because the distribution can be `[2, 1, 2]` or `[1, 1, 3]`, both requiring a total of 5 candies."
      ],
      "metadata": {
        "id": "vp6rT4oQvnRe"
      }
    },
    {
      "cell_type": "markdown",
      "source": [
        "**18. Trapping Rain Water**\n",
        "Given n non-negative integers representing an elevation map where the width of each bar is 1, compute how much water it can trap after raining.\n",
        "\n",
        "**Input:** height = [0,1,0,2,1,0,1,3,2,1,2,1]\n",
        "\n",
        "**Output:** 6\n",
        "\n",
        "**Explanation:** The above elevation map (black section) is represented by array [0,1,0,2,1,0,1,3,2,1,2,1]. In this case, 6 units of rain water (blue section) are being trapped.\n",
        "\n",
        "**Reference:** https://leetcode.com/problems/trapping-rain-water/?envType=study-plan-v2&envId=top-interview-150"
      ],
      "metadata": {
        "id": "yYwArZ4lwnAn"
      }
    },
    {
      "cell_type": "code",
      "source": [
        "def trap(height):\n",
        "    n = len(height)\n",
        "    if n <= 2:\n",
        "        return 0\n",
        "\n",
        "    # Initialize arrays to store the maximum heights to the left and right of each position\n",
        "    left_max = [0] * n\n",
        "    right_max = [0] * n\n",
        "\n",
        "    # Calculate the maximum height to the left of each position\n",
        "    left_max[0] = height[0]\n",
        "    for i in range(1, n):\n",
        "        left_max[i] = max(left_max[i - 1], height[i])\n",
        "\n",
        "    # Calculate the maximum height to the right of each position\n",
        "    right_max[n - 1] = height[n - 1]\n",
        "    for i in range(n - 2, -1, -1):\n",
        "        right_max[i] = max(right_max[i + 1], height[i])\n",
        "\n",
        "    trapped_water = 0  # Initialize a variable to store the trapped water\n",
        "\n",
        "    # Calculate the trapped water at each position\n",
        "    for i in range(n):\n",
        "        trapped_water += min(left_max[i], right_max[i]) - height[i]\n",
        "\n",
        "    return trapped_water  # Return the total trapped water\n",
        "\n",
        "# Example height list\n",
        "height = [0, 1, 0, 2, 1, 0, 1, 3, 2, 1, 2, 1]\n",
        "print(height)\n",
        "print(trap(height))  # Output: 6\n"
      ],
      "metadata": {
        "colab": {
          "base_uri": "https://localhost:8080/"
        },
        "id": "87-m5_hlve8d",
        "outputId": "20ac7b59-801c-41e7-e5f2-7ce1ea4aa8fe"
      },
      "execution_count": 164,
      "outputs": [
        {
          "output_type": "stream",
          "name": "stdout",
          "text": [
            "[0, 1, 0, 2, 1, 0, 1, 3, 2, 1, 2, 1]\n",
            "6\n"
          ]
        }
      ]
    },
    {
      "cell_type": "markdown",
      "source": [
        "**Algorithm:**\n",
        "The given solution calculates the amount of trapped rainwater between bars with varying heights. It follows these steps:\n",
        "\n",
        "1. If the number of bars is less than or equal to 2, it's not possible to trap water between them, so it returns 0.\n",
        "\n",
        "2. Initialize two arrays, `left_max` and `right_max`, to store the maximum height to the left and right of each bar.\n",
        "\n",
        "3. Traverse the height array once from left to right. For each bar, compute and store the maximum height encountered so far to the left of that bar in the `left_max` array.\n",
        "\n",
        "4. Traverse the height array again, this time from right to left. For each bar, compute and store the maximum height encountered so far to the right of that bar in the `right_max` array.\n",
        "\n",
        "5. Initialize a variable `trapped_water` to store the total trapped water.\n",
        "\n",
        "6. Traverse the height array once more. For each bar, calculate the trapped water by subtracting the height of the bar from the minimum of the maximum heights on its left and right sides. Add this calculated trapped water to the `trapped_water` variable.\n",
        "\n",
        "7. Return the `trapped_water` as the final result.\n",
        "\n",
        "By computing the maximum heights to the left and right of each bar and then calculating the trapped water for each bar, the solution accurately determines the total trapped rainwater between the bars."
      ],
      "metadata": {
        "id": "fopAYk13x_S2"
      }
    },
    {
      "cell_type": "markdown",
      "source": [
        "**19. Roman to Integer**\n",
        "\n",
        "Roman numerals are represented by seven different symbols: I, V, X, L, C, D and M.\n",
        "\n",
        "Symbol       Value\n",
        "I             1\n",
        "V             5\n",
        "X             10\n",
        "L             50\n",
        "C             100\n",
        "D             500\n",
        "M             1000\n",
        "For example, 2 is written as II in Roman numeral, just two ones added together. 12 is written as XII, which is simply X + II. The number 27 is written as XXVII, which is XX + V + II.\n",
        "\n",
        "Roman numerals are usually written largest to smallest from left to right. However, the numeral for four is not IIII. Instead, the number four is written as IV. Because the one is before the five we subtract it making four. The same principle applies to the number nine, which is written as IX. There are six instances where subtraction is used:\n",
        "\n",
        "I can be placed before V (5) and X (10) to make 4 and 9.\n",
        "X can be placed before L (50) and C (100) to make 40 and 90.\n",
        "C can be placed before D (500) and M (1000) to make 400 and 900.\n",
        "Given a roman numeral, convert it to an integer.\n",
        "\n",
        "**Example:**\n",
        "\n",
        "**Input**: s = \"III\"\n",
        "\n",
        "***Output:*** 3\n",
        "\n",
        "**Explanation:** III = 3.\n",
        "\n",
        "**Reference:** https://leetcode.com/problems/roman-to-integer/?envType=study-plan-v2&envId=top-interview-150"
      ],
      "metadata": {
        "id": "tAaBbHXwyEoP"
      }
    },
    {
      "cell_type": "code",
      "source": [
        "def romanToInt(s):\n",
        "        # Create a dictionary to map each Roman numeral to its corresponding integer value\n",
        "        key = {'I': 1, 'V': 5, 'X': 10, 'L': 50, 'C': 100, 'D': 500, 'M': 1000}\n",
        "\n",
        "        prevC = s[0]  # Initialize the previous character\n",
        "        sum = 0       # Initialize a variable to store the final sum\n",
        "\n",
        "        for c in s:\n",
        "            if key[prevC] < key[c]:  # Check if the value of the previous character is less than the value of the current character\n",
        "                sum -= key[prevC] * 2  # Subtract twice the value of the previous character (as it was added in the previous iteration)\n",
        "            sum += key[c]  # Add the value of the current character to the sum\n",
        "            prevC = c      # Update the previous character\n",
        "\n",
        "        return sum  # Return the final integer value\n",
        "\n",
        "# Testing the function\n",
        "roman_numeral = \"MCMXCIV\"\n",
        "print(roman_numeral)\n",
        "print(solution.romanToInt(roman_numeral))  # Output: 1994\n"
      ],
      "metadata": {
        "colab": {
          "base_uri": "https://localhost:8080/"
        },
        "id": "aWiQKXUrxwSn",
        "outputId": "e17a5214-e708-45f8-beaf-148c87e712fa"
      },
      "execution_count": 168,
      "outputs": [
        {
          "output_type": "stream",
          "name": "stdout",
          "text": [
            "MCMXCIV\n",
            "1994\n"
          ]
        }
      ]
    },
    {
      "cell_type": "markdown",
      "source": [
        "**Algorithm:**\n",
        "The function romanToInt converts a given Roman numeral string to its corresponding integer value. It does so by iterating through the characters of the input string and using a dictionary named `key` to map each Roman numeral character to its corresponding integer value.\n",
        "\n",
        "For each character, the code compares the integer value of the previous character with the current character. If the value of the previous character is less than the value of the current character (indicating a subtraction scenario like \"IV\" for 4), it subtracts twice the value of the previous character from the total. After that, it adds the value of the current character to the running total.\n",
        "\n",
        "The final result, which represents the integer value of the given Roman numeral string, is returned by the function."
      ],
      "metadata": {
        "id": "2chRSPChzE3q"
      }
    },
    {
      "cell_type": "markdown",
      "source": [
        "**20.Integer to Roman II**\n",
        "\n",
        "Roman numerals are represented by seven different symbols: I, V, X, L, C, D and M.\n",
        "\n",
        "Symbol       Value\n",
        "I             1\n",
        "V             5\n",
        "X             10\n",
        "L             50\n",
        "C             100\n",
        "D             500\n",
        "M             1000\n",
        "For example, 2 is written as II in Roman numeral, just two one's added together. 12 is written as XII, which is simply X + II. The number 27 is written as XXVII, which is XX + V + II.\n",
        "\n",
        "Roman numerals are usually written largest to smallest from left to right. However, the numeral for four is not IIII. Instead, the number four is written as IV. Because the one is before the five we subtract it making four. The same principle applies to the number nine, which is written as IX. There are six instances where subtraction is used:\n",
        "\n",
        "I can be placed before V (5) and X (10) to make 4 and 9.\n",
        "X can be placed before L (50) and C (100) to make 40 and 90.\n",
        "C can be placed before D (500) and M (1000) to make 400 and 900.\n",
        "Given an integer, convert it to a roman numeral.\n",
        "\n",
        "\n",
        "\n",
        "***Example:***\n",
        "\n",
        "***Input:*** num = 3\n",
        "\n",
        "***Output:*** \"III\"\n",
        "\n",
        "***Explanation:*** 3 is represented as 3 one\n",
        "\n",
        "**Reference: ** https://leetcode.com/problems/integer-to-roman/submissions/?envType=study-plan-v2&envId=top-interview-150"
      ],
      "metadata": {
        "id": "nWiEg6TO0RaP"
      }
    },
    {
      "cell_type": "code",
      "source": [
        "def intToRoman(num):\n",
        "        val_to_roman = {\n",
        "            1000: 'M', 900: 'CM', 500: 'D', 400: 'CD',\n",
        "            100: 'C', 90: 'XC', 50: 'L', 40: 'XL',\n",
        "            10: 'X', 9: 'IX', 5: 'V', 4: 'IV', 1: 'I'\n",
        "        }\n",
        "\n",
        "        roman = ''\n",
        "        for val, symbol in val_to_roman.items():\n",
        "            while num >= val:\n",
        "                roman += symbol\n",
        "                num -= val\n",
        "\n",
        "        return roman\n",
        "\n",
        "# Testing the function\n",
        "num = 1994\n",
        "print(num)\n",
        "print(intToRoman(num))  # Output: \"MCMXCIV\"\n"
      ],
      "metadata": {
        "colab": {
          "base_uri": "https://localhost:8080/"
        },
        "id": "UPBxcJTTzCol",
        "outputId": "78eb6fb6-6ab0-4296-e41c-535b00b3c51f"
      },
      "execution_count": 170,
      "outputs": [
        {
          "output_type": "stream",
          "name": "stdout",
          "text": [
            "1994\n",
            "MCMXCIV\n"
          ]
        }
      ]
    },
    {
      "cell_type": "markdown",
      "source": [
        "**Algorithm:** This code defines a function intToRoman that converts an integer num into its corresponding Roman numeral representation. It iterates through the items in the val_to_roman dictionary, and for each item, it appends the corresponding Roman numeral symbol to the roman string while subtracting the associated value from num. The final roman string represents the integer value in Roman numerals. The example provided with the integer 1994 produces the output \"MCMXCIV\"."
      ],
      "metadata": {
        "id": "bB60-fwR1NfS"
      }
    },
    {
      "cell_type": "markdown",
      "source": [
        "**21. Length of Last Word**\n",
        "Given a string s consisting of words and spaces, return the length of the last word in the string.\n",
        "\n",
        "A word is a maximal substring consisting of non-space characters only.\n",
        "\n",
        "**Example:**\n",
        "\n",
        "**Input:** s = \"Hello World\"\n",
        "\n",
        "**Output:** 5\n",
        "\n",
        "**Explanation:** The last word is \"World\" with length 5.\n",
        "\n",
        "**Reference:**https://leetcode.com/problems/length-of-last-word/?envType=study-plan-v2&envId=top-interview-150"
      ],
      "metadata": {
        "id": "5XoW5dpp1tOk"
      }
    },
    {
      "cell_type": "code",
      "source": [
        "def lengthOfLastWord(s):\n",
        "    # Split the input string by spaces and retrieve the last element using [-1]\n",
        "    # The last element will be the last word in the string\n",
        "    last_word = s.split()[-1]\n",
        "\n",
        "    # Return the length of the last word\n",
        "    return len(last_word)\n",
        "\n",
        "# Testing the function\n",
        "input_str = \"Hello World\"\n",
        "print(\"Input:\", input_str)\n",
        "print(\"Length of Last Word:\", lengthOfLastWord(input_str))  # Output: 5\n"
      ],
      "metadata": {
        "colab": {
          "base_uri": "https://localhost:8080/"
        },
        "id": "QJ_kFCbq1FOc",
        "outputId": "07d47714-6da1-4613-e126-749282cdf8ca"
      },
      "execution_count": 172,
      "outputs": [
        {
          "output_type": "stream",
          "name": "stdout",
          "text": [
            "Input: Hello World\n",
            "Length of Last Word: 5\n"
          ]
        }
      ]
    },
    {
      "cell_type": "markdown",
      "source": [
        "**Algorithm**\n",
        "A function lengthOfLastWord calculates the length of the last word in a given string s. It does so by splitting the input string into words using the .split() method, and then retrieving the last element using [-1]. The length of the last word is calculated using the len() function and returned as the result. The example provided with the input string \"Hello World\" produces an output of 5, which is the length of the last word \"World\"."
      ],
      "metadata": {
        "id": "-vNG4bp22OG-"
      }
    },
    {
      "cell_type": "markdown",
      "source": [
        "**22. Longest Common Prefix**\n",
        "\n",
        "Write a function to find the longest common prefix string amongst an array of strings.\n",
        "\n",
        "If there is no common prefix, return an empty string \"\".\n",
        "\n",
        "**Example:**\n",
        "\n",
        "***Input:*** strs = [\"flower\",\"flow\",\"flight\"]\n",
        "\n",
        "***Output:*** \"fl\"\n",
        "\n",
        "***Reference***: https://leetcode.com/problems/longest-common-prefix/?envType=study-plan-v2&envId=top-interview-150"
      ],
      "metadata": {
        "id": "FbWJJ0eN2WEC"
      }
    },
    {
      "cell_type": "code",
      "source": [
        "def longestCommonPrefix(strs):\n",
        "    if not strs:\n",
        "        return \"\"\n",
        "\n",
        "    # Find the shortest string in the list\n",
        "    shortest = min(strs, key=len)\n",
        "\n",
        "    # Compare characters of the shortest string with other strings\n",
        "    for i, char in enumerate(shortest):\n",
        "        for string in strs:\n",
        "            if string[i] != char:\n",
        "                return shortest[:i]\n",
        "\n",
        "    return shortest\n",
        "\n",
        "# Testing the function\n",
        "strs = [\"flower\", \"flow\", \"flight\"]\n",
        "print(strs)\n",
        "print(longestCommonPrefix(strs))  # Output: \"fl\"\n"
      ],
      "metadata": {
        "colab": {
          "base_uri": "https://localhost:8080/"
        },
        "id": "95Pu2GFm2CUz",
        "outputId": "7e42cd56-3683-450d-faa4-14ccb6c85fa0"
      },
      "execution_count": 174,
      "outputs": [
        {
          "output_type": "stream",
          "name": "stdout",
          "text": [
            "['flower', 'flow', 'flight']\n",
            "fl\n"
          ]
        }
      ]
    },
    {
      "cell_type": "markdown",
      "source": [
        "**Algorithm:**\n",
        "The function longestCommonPrefix that calculates the longest common prefix among a list of strings (strs). Here's a brief explanation of how the code works:\n",
        "\n",
        "1. If the input list strs is empty, the function immediately returns an empty string.\n",
        "\n",
        "2. The code identifies the shortest string in the list using the min() function with the key=len parameter, which means it finds the string with the minimum length.\n",
        "\n",
        "3. It then iterates through the characters of the shortest string using a for loop and the enumerate() function to get both the index i and the character char.\n",
        "\n",
        "4. For each character, the code iterates through all the strings in the list using another for loop. It compares the current character in the shortest string with the corresponding character in each string from the list.\n",
        "\n",
        "5. If a mismatch is found between the characters, the code returns the substring of the shortest string up to index i. This substring is the longest common prefix found so far.\n",
        "\n",
        "6. If no mismatch is found, the entire shortest string is the common prefix, and it is returned as the result.\n",
        "\n",
        "In the example provided with the list [\"flower\", \"flow\", \"flight\"], the output is \"fl\", which is the longest common prefix among these strings."
      ],
      "metadata": {
        "id": "QwqgjC1T257o"
      }
    },
    {
      "cell_type": "markdown",
      "source": [
        "23.  **Reverse Words in a String**\n",
        "Given an input string s, reverse the order of the words.\n",
        "\n",
        "A word is defined as a sequence of non-space characters. The words in s will be separated by at least one space.\n",
        "\n",
        "Return a string of the words in reverse order concatenated by a single space.\n",
        "\n",
        "Note that s may contain leading or trailing spaces or multiple spaces between two words. The returned string should only have a single space separating the words. Do not include any extra spaces.\n",
        "\n",
        "***Example:***\n",
        "\n",
        "***Input:*** s = \"the sky is blue\"\n",
        "\n",
        "***Output:*** \"blue is sky the\"\n",
        "\n",
        "**Reference:** https://leetcode.com/problems/reverse-words-in-a-string/?envType=study-plan-v2&envId=top-interview-150"
      ],
      "metadata": {
        "id": "yDFnpYFb3NLX"
      }
    },
    {
      "cell_type": "code",
      "source": [
        "def reverseWords(s):\n",
        "    # Split the string into words using spaces as delimiters\n",
        "    words = s.split()\n",
        "\n",
        "    # Reverse the order of the words\n",
        "    words.reverse()\n",
        "\n",
        "    # Join the reversed words to form the final reversed string\n",
        "    reversed_string = ' '.join(words)\n",
        "\n",
        "    return reversed_string\n",
        "\n",
        "# Example usage\n",
        "input_string = \"the sky is blue\"\n",
        "print(input_string)\n",
        "result = reverseWords(input_string)\n",
        "print(result)  # Output: \"blue is sky the\"\n"
      ],
      "metadata": {
        "colab": {
          "base_uri": "https://localhost:8080/"
        },
        "id": "714QRJYl22Fk",
        "outputId": "1588f86f-7a0b-43cb-ee02-14aff8fb92fe"
      },
      "execution_count": 176,
      "outputs": [
        {
          "output_type": "stream",
          "name": "stdout",
          "text": [
            "the sky is blue\n",
            "blue is sky the\n"
          ]
        }
      ]
    },
    {
      "cell_type": "markdown",
      "source": [
        "**Algorithm:**\n",
        "The reverseWords function takes an input string and splits it into words, creating a list.\n",
        "The order of words in the list is then reversed using the reverse() method.\n",
        "The reversed words are joined back into a single string with spaces between them.\n",
        "The resulting reversed string is returned by the function.\n",
        "Example usage demonstrates the function by reversing the word order in a given input string and printing both the original and reversed strings."
      ],
      "metadata": {
        "id": "wp3uTQIg4AX7"
      }
    },
    {
      "cell_type": "markdown",
      "source": [
        "**24. Zigzag Conversion**\n",
        "\n",
        "The string \"PAYPALISHIRING\" is written in a zigzag pattern on a given number of rows like this: (you may want to display this pattern in a fixed font for better legibility)\n",
        "\n",
        "P   A   H   N\n",
        "A P L S I I G\n",
        "Y   I   R\n",
        "And then read line by line: \"PAHNAPLSIIGYIR\"\n",
        "\n",
        "Write the code that will take a string and make this conversion given a number of rows:\n",
        "\n",
        "string convert(string s, int numRows);\n",
        "\n",
        "***Example:***\n",
        "\n",
        "***Input:*** s = \"PAYPALISHIRING\", numRows = 3\n",
        "\n",
        "***Output:*** \"PAHNAPLSIIGYIR\"\n",
        "\n",
        "**Reference:** https://leetcode.com/problems/zigzag-conversion/?envType=study-plan-v2&envId=top-interview-150"
      ],
      "metadata": {
        "id": "k7IOR3Vn4VpY"
      }
    },
    {
      "cell_type": "code",
      "source": [
        "def convert(s, numRows):\n",
        "    if numRows == 1 or numRows >= len(s):\n",
        "        return s\n",
        "\n",
        "    # Creating a list of strings for each row\n",
        "    rows = [''] * numRows\n",
        "    index, step = 0, 1\n",
        "\n",
        "    for char in s:\n",
        "        rows[index] += char\n",
        "\n",
        "        # Changing direction when reaching the first or last row\n",
        "        if index == 0:\n",
        "            step = 1\n",
        "        elif index == numRows - 1:\n",
        "            step = -1\n",
        "\n",
        "        index += step\n",
        "\n",
        "    return ''.join(rows)\n",
        "\n",
        "# Testing the function\n",
        "input_string = \"PAYPALISHIRING\"\n",
        "print(input_string)\n",
        "numRows = 3\n",
        "result = convert(input_string, numRows)\n",
        "print(result)  # Output: \"PAHNAPLSIIGYIR\n"
      ],
      "metadata": {
        "colab": {
          "base_uri": "https://localhost:8080/"
        },
        "id": "AbQQIH2-391N",
        "outputId": "7ef42c96-3506-4229-9e8b-3a9a7fd7172c"
      },
      "execution_count": 180,
      "outputs": [
        {
          "output_type": "stream",
          "name": "stdout",
          "text": [
            "PAYPALISHIRING\n",
            "PAHNAPLSIIGYIR\n"
          ]
        }
      ]
    },
    {
      "cell_type": "markdown",
      "source": [
        "**Algorithm:**\n",
        "The convert function processes a given string s into a zigzag pattern based on the specified numRows.\n",
        "If numRows is 1 or greater than or equal to the length of s, the function returns s as is, since no zigzag pattern can be formed.\n",
        "For other cases, the function creates a list of numRows strings to represent rows of the zigzag pattern.\n",
        "It iterates through each character in s, placing them in the appropriate row and changing direction when reaching the first or last row.\n",
        "The function then joins the rows to create the zigzag pattern and returns the final result.\n",
        "The function is then tested to evaluate if it performs as expected demonstrating the conversion of an input string to a zigzag pattern."
      ],
      "metadata": {
        "id": "pvSAV9ac5LVr"
      }
    },
    {
      "cell_type": "markdown",
      "source": [
        "**25. Find the Index of the First Occurrence in a String**\n",
        "\n",
        "Given two strings needle and haystack, return the index of the first occurrence of needle in haystack, or -1 if needle is not part of haystack.\n",
        "\n",
        "\n",
        "\n",
        "**`Example:`**\n",
        "\n",
        "***Input:*** haystack = \"sadbutsad\", needle = \"sad\"\n",
        "\n",
        "***Output:*** 0\n",
        "\n",
        "***Explanation:*** \"sad\" occurs at index 0 and 6.\n",
        "The first occurrence is at index 0, so we return 0.\n",
        "\n",
        "***Reference:*** https://leetcode.com/problems/find-the-index-of-the-first-occurrence-in-a-string/?envType=study-plan-v2&envId=top-interview-150"
      ],
      "metadata": {
        "id": "YsUqXpiV5x3z"
      }
    },
    {
      "cell_type": "code",
      "source": [
        "def find_first_occurrence(needle, haystack):\n",
        "    index = needle.find(haystack)\n",
        "    return index\n",
        "\n",
        "# Example usage\n",
        "input_string = \"sadbutsad\"\n",
        "target_substring = \"sad\"\n",
        "result = find_first_occurrence(input_string, target_substring)\n",
        "print(result)  # Output: 0(index of the first occurrence of \"is\")\n"
      ],
      "metadata": {
        "colab": {
          "base_uri": "https://localhost:8080/"
        },
        "id": "QRPf5Coz5IkM",
        "outputId": "5ec70920-e76d-47c9-ac4b-9f0e8dd1a0fc"
      },
      "execution_count": 184,
      "outputs": [
        {
          "output_type": "stream",
          "name": "stdout",
          "text": [
            "0\n"
          ]
        }
      ]
    },
    {
      "cell_type": "markdown",
      "source": [
        "**Algorithm:**\n",
        "\n",
        "1. The find_first_occurrence function searches for the index of the first occurrence of haystack within the string needle.\n",
        "\n",
        "2. It uses the find() method of the string needle to locate the first occurrence of the haystack substring.\n",
        "\n",
        "3. The function returns the index of the first occurrence, or -1 if not found.\n",
        "The example usage demonstrates finding the index of the first occurrence of the substring \"sad\" within the string \"sadbutsad,\" resulting in an output of 0."
      ],
      "metadata": {
        "id": "Qae_ffao6e2I"
      }
    },
    {
      "cell_type": "markdown",
      "source": [
        "**26. Text Justification**\n",
        "Given an array of strings words and a width maxWidth, format the text such that each line has exactly maxWidth characters and is fully (left and right) justified.\n",
        "\n",
        "You should pack your words in a greedy approach; that is, pack as many words as you can in each line. Pad extra spaces ' ' when necessary so that each line has exactly maxWidth characters.\n",
        "\n",
        "Extra spaces between words should be distributed as evenly as possible. If the number of spaces on a line does not divide evenly between words, the empty slots on the left will be assigned more spaces than the slots on the right.\n",
        "\n",
        "For the last line of text, it should be left-justified, and no extra space is inserted between words.\n",
        "\n",
        "Note:\n",
        "\n",
        "A word is defined as a character sequence consisting of non-space characters only.\n",
        "Each word's length is guaranteed to be greater than 0 and not exceed maxWidth.\n",
        "The input array words contains at least one word.\n",
        "\n",
        "**Example:**\n",
        "\n",
        "***Input:*** words = [\"This\", \"is\", \"an\", \"example\", \"of\", \"text\", \"justification.\"], maxWidth = 16\n",
        "\n",
        "**Output:**\n",
        "\n",
        "[\n",
        "   \"This    is    an\",\n",
        "   \"example  of text\",\n",
        "   \"justification.  \"\n",
        "]\n",
        "\n",
        "**Reference:** https://leetcode.com/problems/text-justification/?envType=study-plan-v2&envId=top-interview-150"
      ],
      "metadata": {
        "id": "rgnGv6qG6n-A"
      }
    },
    {
      "cell_type": "code",
      "source": [
        "def fullJustify(words, maxWidth):\n",
        "    result = []\n",
        "    curr_line = []\n",
        "    curr_len = 0\n",
        "\n",
        "    for word in words:\n",
        "        if curr_len + len(curr_line) + len(word) > maxWidth:\n",
        "            spaces_to_add = maxWidth - curr_len\n",
        "            if len(curr_line) == 1:\n",
        "                result.append(curr_line[0] + ' ' * spaces_to_add)\n",
        "            else:\n",
        "                spaces_between_words = spaces_to_add // (len(curr_line) - 1)\n",
        "                extra_spaces = spaces_to_add % (len(curr_line) - 1)\n",
        "                justified_line = curr_line[0]\n",
        "                for i in range(1, len(curr_line)):\n",
        "                    spaces = spaces_between_words + (1 if i <= extra_spaces else 0)\n",
        "                    justified_line += ' ' * spaces + curr_line[i]\n",
        "                result.append(justified_line)\n",
        "\n",
        "            curr_line = []\n",
        "            curr_len = 0\n",
        "\n",
        "        curr_line.append(word)\n",
        "        curr_len += len(word)\n",
        "\n",
        "    result.append(' '.join(curr_line).ljust(maxWidth))\n",
        "    return result\n",
        "\n",
        "#Testing the function\n",
        "words = [\"This\", \"is\", \"an\", \"example\", \"of\", \"text\", \"justification.\"]\n",
        "maxWidth = 16\n",
        "result = fullJustify(words, maxWidth)\n",
        "for line in result:\n",
        "    print(line)\n"
      ],
      "metadata": {
        "colab": {
          "base_uri": "https://localhost:8080/"
        },
        "id": "qYyrM-Ho6N_6",
        "outputId": "4cc1e245-6ea1-40d8-8ce7-e1fc85beb6d6"
      },
      "execution_count": 186,
      "outputs": [
        {
          "output_type": "stream",
          "name": "stdout",
          "text": [
            "This    is    an\n",
            "example  of text\n",
            "justification.  \n"
          ]
        }
      ]
    },
    {
      "cell_type": "markdown",
      "source": [
        "**Algorithm:**\n",
        "1. The fullJustify function takes a list of words and a maxWidth as parameters.\n",
        "\n",
        "2. It iterates through the words list and processes them into lines that fit within the given maxWidth.\n",
        "\n",
        "3. For each word, it calculates the total length of words and spaces in the current line (curr_len), considering the spaces between words.\n",
        "\n",
        "4. When the total length exceeds maxWidth, it calculates the required extra spaces to evenly distribute within the line.\n",
        "\n",
        "5. Depending on whether the current line contains only one word or multiple words, it creates the justified line by adding spaces between words according to the calculated rules.\n",
        "\n",
        "6. After processing each line, the function appends it to the result list.\n",
        "\n",
        "7. The remaining words that haven't been added to previous lines are processed as a left-justified line.\n",
        "\n",
        "8. The final result list contains the justified lines of text.\n",
        "\n",
        "9. The provided example usage demonstrates the function by justifying the given list of words with a maximum width of 16 characters and prints each justified line.\n",
        "\n",
        "10. Essentially the function arranges the words into lines with even spacing, ensuring the text follows the specified maximum width for each line."
      ],
      "metadata": {
        "id": "NeEbjGoB7T7g"
      }
    },
    {
      "cell_type": "code",
      "source": [],
      "metadata": {
        "id": "xVO0Q-MC7MV7"
      },
      "execution_count": null,
      "outputs": []
    }
  ]
}