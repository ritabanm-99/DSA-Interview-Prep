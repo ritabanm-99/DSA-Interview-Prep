{
  "nbformat": 4,
  "nbformat_minor": 0,
  "metadata": {
    "colab": {
      "provenance": []
    },
    "kernelspec": {
      "name": "python3",
      "display_name": "Python 3"
    },
    "language_info": {
      "name": "python"
    }
  },
  "cells": [
    {
      "cell_type": "markdown",
      "source": [
        "# **Hashmap**\n",
        "\n",
        "Here are the most commonly asked questions on hashmaps, their solutions and a brief explanation."
      ],
      "metadata": {
        "id": "4OWoAJFSazPz"
      }
    },
    {
      "cell_type": "markdown",
      "source": [
        "1. **Ransom Note**\n",
        "\n",
        "Given two strings ransomNote and magazine, return true if ransomNote can be constructed by using the letters from magazine and false otherwise.\n",
        "\n",
        "Each letter in magazine can only be used once in ransomNote.\n",
        "\n",
        "**Example 1:**\n",
        "\n",
        "\n",
        "**Input:** ransomNote = \"a\", magazine = \"b\"\n",
        "\n",
        "\n",
        "**Output:** false\n",
        "\n",
        "\n",
        "**Reference:** https://leetcode.com/problems/ransom-note/?envType=study-plan-v2&envId=top-interview-150"
      ],
      "metadata": {
        "id": "aCgi04cRbA2D"
      }
    },
    {
      "cell_type": "code",
      "execution_count": 3,
      "metadata": {
        "colab": {
          "base_uri": "https://localhost:8080/"
        },
        "id": "nGsWslwIaxOz",
        "outputId": "b02ff18b-872b-400d-cb22-47e52c23ea5d"
      },
      "outputs": [
        {
          "output_type": "stream",
          "name": "stdout",
          "text": [
            "False\n",
            "False\n",
            "True\n"
          ]
        }
      ],
      "source": [
        "def canConstruct(ransomNote, magazine):\n",
        "    char_frequency = {}  # Dictionary to store character frequencies\n",
        "\n",
        "    # Populate the dictionary with character frequencies from the magazine\n",
        "    for char in magazine:\n",
        "        if char in char_frequency:\n",
        "            char_frequency[char] += 1\n",
        "        else:\n",
        "            char_frequency[char] = 1\n",
        "\n",
        "    # Check if ransomNote can be constructed\n",
        "    for char in ransomNote:\n",
        "        if char in char_frequency and char_frequency[char] > 0:\n",
        "            char_frequency[char] -= 1  # Decrement the frequency of the character\n",
        "        else:\n",
        "            return False  # Character not found in dictionary or frequency is already 0\n",
        "\n",
        "    return True\n",
        "\n",
        "# Testing the function\n",
        "print(canConstruct(\"a\", \"b\"))    # Output: False\n",
        "print(canConstruct(\"aa\", \"ab\"))  # Output: False\n",
        "print(canConstruct(\"aa\", \"aab\")) # Output: True"
      ]
    },
    {
      "cell_type": "markdown",
      "source": [
        "**Algorithm**\n",
        "\n",
        "**Character Frequency Setup:** The canConstruct function builds a dictionary of character frequencies from the magazine string, capturing how many times each character appears.\n",
        "\n",
        "**Ransom Note Construction Check:** For each character in the ransomNote, it checks if the character exists in the frequency dictionary and is available. If not, it returns False indicating the ransom note can't be constructed.\n",
        "Decrementing Frequencies: When a character is successfully used from the dictionary, its frequency is decremented. If all characters in the ransom note are constructible, the function returns True.\n",
        "\n",
        "\n",
        "**Testing:**The test_canConstruct function includes test cases to validate the canConstruct function's correctness, covering scenarios where the ransom note can or cannot be constructed from the magazine."
      ],
      "metadata": {
        "id": "MYds40jVb4sT"
      }
    },
    {
      "cell_type": "markdown",
      "source": [
        "2. **Isomorphic Strings:**\n",
        "\n",
        "\n",
        "Given two strings s and t, determine if they are isomorphic.\n",
        "\n",
        "Two strings s and t are isomorphic if the characters in s can be replaced to get t.\n",
        "\n",
        "All occurrences of a character must be replaced with another character while preserving the order of characters. No two characters may map to the same character, but a character may map to itself.\n",
        "\n",
        "**Reference:**https://leetcode.com/problems/isomorphic-strings/?envType=study-plan-v2&envId=top-interview-150"
      ],
      "metadata": {
        "id": "ZzZQUvpecIiG"
      }
    },
    {
      "cell_type": "code",
      "source": [
        "def isIsomorphic( s, t):\n",
        "    # Check if the number of unique characters in s is equal to the number of unique characters in t\n",
        "    # This is the first condition for the strings to be isomorphic\n",
        "    condition1 = len(set(s)) == len(set(t))\n",
        "\n",
        "    # Check if the number of unique pairs of characters (s, t) is equal to the number of unique characters in s or t\n",
        "    # This condition captures the mapping uniqueness from s to t and vice versa\n",
        "    condition2 = len(set(zip(s, t))) == len(set(s)) == len(set(t))\n",
        "\n",
        "    # Return True if both conditions are satisfied, indicating that s and t are isomorphic\n",
        "    return condition1 and condition2\n"
      ],
      "metadata": {
        "id": "TWOs-25qbjxe"
      },
      "execution_count": 6,
      "outputs": []
    },
    {
      "cell_type": "markdown",
      "source": [
        "**Algorithm**\n",
        "\n",
        "condition1 checks if the number of unique characters in the string s is the same as the number of unique characters in the string t. This is a necessary condition for the strings to be isomorphic since every character in s should correspond to exactly one character in t.\n",
        "\n",
        "condition2 checks if the number of unique pairs of characters (s, t) is the same as the number of unique characters in s and also the number of unique characters in t. This condition ensures that the mapping between characters in s and characters in t is unique in both directions.\n",
        "\n",
        "The final return statement returns True if both condition1 and condition2 are True, indicating that the strings s and t are indeed isomorphic. If either condition is not met, the function will return False."
      ],
      "metadata": {
        "id": "Z0_Ijw_xdAXy"
      }
    },
    {
      "cell_type": "markdown",
      "source": [
        "3. **Word Pattern:**\n",
        "\n",
        "Given a pattern and a string s, find if s follows the same pattern.\n",
        "Here follow means a full match, such that there is a bijection between a letter in pattern and a non-empty word in s.\n",
        "\n",
        "**Example:**\n",
        "\n",
        "**Input:** pattern = \"abba\", s = \"dog cat cat dog\"\n",
        "\n",
        "**Output:** true\n",
        "\n",
        "**Reference:**https://leetcode.com/problems/word-pattern/?envType=study-plan-v2&envId=top-interview-150"
      ],
      "metadata": {
        "id": "ycAOQjTvdaY3"
      }
    },
    {
      "cell_type": "code",
      "source": [
        "def wordPattern(pattern, s):\n",
        "    # Split the input string s into a list of words\n",
        "    s = s.split()\n",
        "\n",
        "    # Check if the number of characters in the pattern is equal to the number of words in the list\n",
        "    if len(pattern) != len(s):\n",
        "        return False\n",
        "\n",
        "    # Initialize dictionaries to track mappings between characters and words\n",
        "    char_to_word = {}  # Maps characters to words\n",
        "    word_to_char = {}  # Maps words to characters\n",
        "\n",
        "    # Iterate through characters in the pattern and corresponding words in the list\n",
        "    for char, word in zip(pattern, s):\n",
        "        # Check if the character is already in the char_to_word dictionary\n",
        "        if char in char_to_word:\n",
        "            # If it is, check if the mapped word matches the current word\n",
        "            if char_to_word[char] != word:\n",
        "                return False\n",
        "        else:\n",
        "            # If not, add the mapping to the char_to_word dictionary\n",
        "            char_to_word[char] = word\n",
        "\n",
        "        # Check if the word is already in the word_to_char dictionary\n",
        "        if word in word_to_char:\n",
        "            # If it is, check if the mapped character matches the current character\n",
        "            if word_to_char[word] != char:\n",
        "                return False\n",
        "        else:\n",
        "            # If not, add the mapping to the word_to_char dictionary\n",
        "            word_to_char[word] = char\n",
        "\n",
        "    # If all mappings are consistent, return True\n",
        "    return True\n"
      ],
      "metadata": {
        "id": "_EhDeSnPc8cv"
      },
      "execution_count": 9,
      "outputs": []
    },
    {
      "cell_type": "markdown",
      "source": [
        "**Algorithm**\n",
        "\n",
        "1. The input string s is split into a list of words using the split() function.\n",
        "\n",
        "2. If the length of the pattern is not equal to the length of the list of words, it's impossible for them to match, so we return False.\n",
        "\n",
        "3. Two dictionaries, char_to_word and word_to_char, are used to keep track of mappings between characters and words.\n",
        "\n",
        "4. The zip() function is used to iterate through pairs of characters from the pattern and corresponding words from the list.\n",
        "\n",
        "5. For each pair, the code checks whether the mappings are consistent in both directions (character to word and word to character) in the dictionaries. If not, it returns False.\n",
        "\n",
        "6. If all pairs of characters and words have consistent mappings, the function returns True, indicating that the pattern matches the list of words"
      ],
      "metadata": {
        "id": "5OhBKgDieQ6t"
      }
    },
    {
      "cell_type": "markdown",
      "source": [
        "4. **Valid Anagram**\n",
        "\n",
        "Given two strings s and t, return true if t is an anagram of s, and false otherwise.\n",
        "\n",
        "An Anagram is a word or phrase formed by rearranging the letters of a different word or phrase, typically using all the original letters exactly once.\n",
        "\n",
        "**Example 1:**\n",
        "\n",
        "**Input:** s = \"anagram\", t = \"nagaram\"\n",
        "\n",
        "**Output:** true\n",
        "\n",
        "**Reference:**\n",
        "https://leetcode.com/problems/valid-anagram/description/?envType=study-plan-v2&envId=top-interview-150"
      ],
      "metadata": {
        "id": "DRlWhjquei5-"
      }
    },
    {
      "cell_type": "code",
      "source": [
        "from collections import Counter\n",
        "\n",
        "class Solution:\n",
        "    def isAnagram(self, s: str, t: str) -> bool:\n",
        "        # Import the Counter class from the collections module\n",
        "\n",
        "        # Use Counter to create dictionaries of character frequencies for strings s and t\n",
        "        # Then, compare these two dictionaries for equality\n",
        "        return Counter(s) == Counter(t)\n"
      ],
      "metadata": {
        "id": "lPyTM5D_eIzT"
      },
      "execution_count": 11,
      "outputs": []
    },
    {
      "cell_type": "markdown",
      "source": [
        "**Algorithm**\n",
        "\n",
        "***isAnagram Function:*** The isAnagram function takes two input strings, s and t, and returns a boolean indicating whether they are anagrams.\n",
        "\n",
        "***Using Counter:*** Inside the function, it uses the Counter class to create dictionaries representing the character frequencies of both strings s and t. The Counter(s) expression creates a dictionary where the keys are characters from s, and the values are their corresponding frequencies.\n",
        "\n",
        "***Comparison:*** The solution compares the two dictionaries created from s and t using the equality operator (==). If the two dictionaries are equal, it means that both strings have the same characters occurring the same number of times.\n",
        "\n",
        "***Returning Result:*** If the comparison evaluates to True, the function returns True, indicating that s and t are anagrams. If the comparison is False, it means that the character frequencies do not match, and the function returns False, indicating that s and t are not anagrams."
      ],
      "metadata": {
        "id": "dPyGjlHEfLpz"
      }
    },
    {
      "cell_type": "markdown",
      "source": [
        "5. **Group Anagrams**\n",
        "\n",
        "Given an array of strings strs, group the anagrams together. You can return the answer in any order.\n",
        "\n",
        "An Anagram is a word or phrase formed by rearranging the letters of a different word or phrase, typically using all the original letters exactly once.\n",
        "\n",
        "**Example 1:**\n",
        "\n",
        "**Input:** strs = [\"eat\",\"tea\",\"tan\",\"ate\",\"nat\",\"bat\"]\n",
        "\n",
        "**Output:** [[\"bat\"],[\"nat\",\"tan\"],[\"ate\",\"eat\",\"tea\"]]\n",
        "\n",
        "**Reference:** https://leetcode.com/problems/group-anagrams/?envType=study-plan-v2&envId=top-interview-150"
      ],
      "metadata": {
        "id": "3rIYnXvofjZV"
      }
    },
    {
      "cell_type": "code",
      "source": [
        "def groupAnagrams(strs):\n",
        "    # Initialize an empty hash map to store anagram groups\n",
        "    anagram_map = {}\n",
        "\n",
        "    # Iterate through each word in the input array\n",
        "    for word in strs:\n",
        "        # Sort the characters of the word to create a sorted string\n",
        "        sorted_word = \"\".join(sorted(word))\n",
        "\n",
        "        # Check if the sorted string is not already a key in the hash map\n",
        "        if sorted_word not in anagram_map:\n",
        "            # If not, add the sorted string as a key and initialize a list with the current word as value\n",
        "            anagram_map[sorted_word] = [word]\n",
        "        else:\n",
        "            # If the sorted string is already a key, append the current word to the list of values\n",
        "            anagram_map[sorted_word].append(word)\n",
        "\n",
        "    # Return a list containing all the values (anagram groups) in the hash map\n",
        "    return list(anagram_map.values())\n",
        "\n",
        "# Test the function\n",
        "input_strs = [\"eat\", \"tea\", \"tan\", \"ate\", \"nat\", \"bat\"]\n",
        "output = groupAnagrams(input_strs)\n",
        "print(output)  # Output: [[\"eat\", \"tea\"], [\"tan\", \"nat\"], [\"ate\"], [\"bat\"]]\n"
      ],
      "metadata": {
        "colab": {
          "base_uri": "https://localhost:8080/"
        },
        "id": "yOJDby4oe6zl",
        "outputId": "135c6ec0-b952-43fa-d155-abb250266f06"
      },
      "execution_count": 14,
      "outputs": [
        {
          "output_type": "stream",
          "name": "stdout",
          "text": [
            "[['eat', 'tea', 'ate'], ['tan', 'nat'], ['bat']]\n"
          ]
        }
      ]
    },
    {
      "cell_type": "markdown",
      "source": [
        "**Algorithm:**\n",
        "\n",
        "1. The groupAnagrams function initializes an empty hash map to store anagram groups, where keys are sorted strings representing anagrams, and values are lists of words.\n",
        "\n",
        "2. The function iterates through each word in the input array and sorts its characters to create a sorted string that can serve as an anagram group identifier.\n",
        "\n",
        "3. If the sorted string is not already a key in the hash map, a new entry is added with the sorted string as the key and the current word as the initial value in a list.\n",
        "\n",
        "4. If the sorted string is already a key in the hash map, the current word is appended to the list of values associated with that key.\n",
        "\n",
        "5. Finally, the function returns a list containing all the anagram groups (lists of words) from the hash map."
      ],
      "metadata": {
        "id": "27IpKe6oh-Tx"
      }
    },
    {
      "cell_type": "markdown",
      "source": [
        "6. **Two Sum**\n",
        "\n",
        "Given an array of integers nums and an integer target, return indices of the two numbers such that they add up to target.\n",
        "\n",
        "You may assume that each input would have exactly one solution, and you may not use the same element twice.\n",
        "\n",
        "You can return the answer in any order.\n",
        "\n",
        "**Example:**\n",
        "\n",
        "**Input:** nums = [2,7,11,15], target = 9\n",
        "\n",
        "**Output:** [0,1]\n",
        "\n",
        "**Explanation:** Because nums[0] + nums[1] == 9, we return [0, 1].\n",
        "\n",
        "**Reference:** https://leetcode.com/problems/two-sum/description/?envType=study-plan-v2&envId=top-interview-150"
      ],
      "metadata": {
        "id": "jYp-EXzriHVn"
      }
    },
    {
      "cell_type": "code",
      "source": [
        "def twoSum(nums, target):\n",
        "        num_to_index = {}  # Dictionary to store numbers as keys and their indices as values\n",
        "\n",
        "        # Iterate through the array along with the indices\n",
        "        for index, num in enumerate(nums):\n",
        "            complement = target - num  # Calculate the complement needed to achieve the target\n",
        "\n",
        "            # Check if the complement is already in the num_to_index dictionary\n",
        "            if complement in num_to_index:\n",
        "                # If yes, return the indices of the current number and its complement\n",
        "                return [num_to_index[complement], index]\n",
        "\n",
        "            # If the complement is not found, store the current number's index in the dictionary\n",
        "            num_to_index[num] = index\n",
        "\n",
        "        # If no solution is found during the loop, return an empty list\n",
        "        return []\n",
        "\n",
        "# Test the function\n",
        "nums = [2, 7, 11, 15]\n",
        "print(\"list:\",nums)\n",
        "target = 9\n",
        "print(\"target:\",9)\n",
        "\n",
        "\n",
        "indices = twoSum(nums, target)\n",
        "print(\"two sum indices:\",indices)  # Output: [0, 1]\n"
      ],
      "metadata": {
        "colab": {
          "base_uri": "https://localhost:8080/"
        },
        "id": "cBJC_r_WgaDN",
        "outputId": "31f92d49-7d1d-47a6-b65a-b023146f6593"
      },
      "execution_count": 26,
      "outputs": [
        {
          "output_type": "stream",
          "name": "stdout",
          "text": [
            "list: [2, 7, 11, 15]\n",
            "target: 9\n",
            "two sum indices: [0, 1]\n"
          ]
        }
      ]
    },
    {
      "cell_type": "markdown",
      "source": [
        "7. **Happy Number**\n",
        "\n",
        "Write an algorithm to determine if a number n is happy.\n",
        "\n",
        "A happy number is a number defined by the following process:\n",
        "\n",
        "Starting with any positive integer, replace the number by the sum of the squares of its digits.\n",
        "Repeat the process until the number equals 1 (where it will stay), or it loops endlessly in a cycle which does not include 1.\n",
        "Those numbers for which this process ends in 1 are happy.\n",
        "\n",
        "\n",
        "**Example:**\n",
        "\n",
        "**Input:** n = 19\n",
        "\n",
        "**Output:** true\n",
        "\n",
        "**Explanation:**\n",
        "12 + 92 = 82\n",
        "\n",
        "82 + 22 = 68\n",
        "\n",
        "62 + 82 = 100\n",
        "\n",
        "12 + 02 + 02 = 1\n",
        "\n",
        "**Reference:** https://leetcode.com/problems/happy-number/?envType=study-plan-v2&envId=top-interview-150"
      ],
      "metadata": {
        "id": "AGw0zBAckJSb"
      }
    },
    {
      "cell_type": "code",
      "source": [
        "def isHappy(n):\n",
        "        used = []  # List to track the sums of squares encountered during calculations\n",
        "\n",
        "        while(n > 0):  # Continue until n becomes 0\n",
        "            tmp = 0  # Temporary variable to store the sum of squares\n",
        "\n",
        "            # Calculate the sum of squares of digits in n\n",
        "            while(n > 0):\n",
        "                i = n % 10  # Get the last digit of n\n",
        "\n",
        "                tmp += i * i  # Add the square of the digit to tmp\n",
        "                n = n // 10  # Remove the last digit\n",
        "\n",
        "            if(tmp in used):\n",
        "                return False  # If tmp is encountered before, it indicates a loop and the number is not happy\n",
        "            else:\n",
        "                used.append(tmp)  # Add the tmp value to the used list\n",
        "\n",
        "            if(tmp == 1):\n",
        "                return True  # If tmp reaches 1, the number is happy\n",
        "\n",
        "            n = tmp  # Update n to the new tmp value for the next iteration\n",
        "\n",
        "        return False  # If the loop finishes and tmp never becomes 1, the number is not happy\n",
        "\n",
        "#testing the function\n",
        "n = int(input(\"Enter a number: \"))\n",
        "isHappy(n)\n"
      ],
      "metadata": {
        "colab": {
          "base_uri": "https://localhost:8080/"
        },
        "id": "ucDElT17jlxg",
        "outputId": "ded723c6-406a-40fa-9b0e-97f747754ad5"
      },
      "execution_count": 33,
      "outputs": [
        {
          "name": "stdout",
          "output_type": "stream",
          "text": [
            "Enter a number: 19\n"
          ]
        },
        {
          "output_type": "execute_result",
          "data": {
            "text/plain": [
              "True"
            ]
          },
          "metadata": {},
          "execution_count": 33
        }
      ]
    },
    {
      "cell_type": "markdown",
      "source": [
        "8. **Contains Duplicate II**\n",
        "\n",
        "Given an integer array nums and an integer k, return true if there are two distinct indices i and j in the array such that nums[i] == nums[j] and abs(i - j) <= k.\n",
        "\n",
        "**Example:**\n",
        "\n",
        "**Input:** nums = [1,2,3,1], k = 3\n",
        "\n",
        "**Output:** true\n",
        "\n",
        "**Reference:** https://leetcode.com/problems/contains-duplicate-ii/?envType=study-plan-v2&envId=top-interview-150"
      ],
      "metadata": {
        "id": "Y0LOs3_HlUPe"
      }
    },
    {
      "cell_type": "code",
      "source": [
        "def containsNearbyDuplicate(nums, k):\n",
        "        d1 = {}  # Dictionary to store numbers as keys and their indices as values\n",
        "\n",
        "        for key, val in enumerate(nums):\n",
        "            # Check if the number is not in the dictionary\n",
        "            if val not in d1:\n",
        "                d1[val] = key  # If not, add the number as key and its index as value\n",
        "            else:\n",
        "                # If the number is already in the dictionary, calculate the difference in indices\n",
        "                if abs(d1.get(val) - key) <= k:\n",
        "                    return True  # If the difference is less than or equal to k, return True (found a duplicate)\n",
        "                else:\n",
        "                    d1[val] = key  # Update the number's index in the dictionary\n",
        "\n",
        "        return False  # If no duplicate within distance k is found, return False\n",
        "\n",
        "#testing the function\n",
        "nums = [1,2,3,1]\n",
        "print(nums)\n",
        "k = 3\n",
        "print(k)\n",
        "containsNearbyDuplicate(nums,k)"
      ],
      "metadata": {
        "colab": {
          "base_uri": "https://localhost:8080/"
        },
        "id": "jRd8EjJKkvSI",
        "outputId": "a937ad05-8d4a-4df6-de1c-c41f81e907d8"
      },
      "execution_count": 43,
      "outputs": [
        {
          "output_type": "stream",
          "name": "stdout",
          "text": [
            "[1, 2, 3, 1]\n",
            "3\n"
          ]
        },
        {
          "output_type": "execute_result",
          "data": {
            "text/plain": [
              "True"
            ]
          },
          "metadata": {},
          "execution_count": 43
        }
      ]
    },
    {
      "cell_type": "markdown",
      "source": [
        "**Algorithm:**\n",
        "\n",
        "The **`containsNearbyDuplicate`** function checks if there are duplicate elements within a specified distance k in a given list of numbers. It utilizes a dictionary to store numbers as keys and their indices as values. It iterates through the list, adding numbers to the dictionary if not present, and compares the absolute difference between current and previous indices for existing numbers. If this difference is within k, the function returns True. Otherwise, it updates indices in the dictionary. If no duplicates are found within k distance, it returns False."
      ],
      "metadata": {
        "id": "i-YGCAZomsb9"
      }
    },
    {
      "cell_type": "markdown",
      "source": [
        "9. **Longest Consecutive Sequence**\n",
        "\n",
        "Given an unsorted array of integers nums, return the length of the longest consecutive elements sequence.\n",
        "\n",
        "You must write an algorithm that runs in O(n) time.\n",
        "\n",
        "**Example:**\n",
        "\n",
        "**Input:** nums = [100,4,200,1,3,2]\n",
        "\n",
        "**Output:** 4\n",
        "\n",
        "**Explanation:** The longest consecutive elements sequence is [1, 2, 3, 4]. Therefore its length is 4.\n",
        "\n",
        "\n",
        "\n",
        "**Reference:** https://leetcode.com/problems/longest-consecutive-sequence/?envType=study-plan-v2&envId=top-interview-150"
      ],
      "metadata": {
        "id": "lYpUmqiFnBE_"
      }
    },
    {
      "cell_type": "code",
      "source": [
        "def longestConsecutive(nums):\n",
        "        num_set = set(nums)  # Create a set of numbers for efficient lookups\n",
        "        max_length = 0  # Initialize the variable to store the maximum length\n",
        "\n",
        "        for num in nums:\n",
        "            # Check if the number is the potential starting point of a sequence\n",
        "            if num - 1 not in num_set:\n",
        "                current_num = num  # Initialize the current number for sequence counting\n",
        "                current_length = 1  # Initialize the length of the current sequence\n",
        "\n",
        "                # Count the length of the consecutive sequence\n",
        "                while current_num + 1 in num_set:\n",
        "                    current_num += 1  # Move to the next consecutive number\n",
        "                    current_length += 1  # Increment the length of the sequence\n",
        "\n",
        "                max_length = max(max_length, current_length)  # Update max_length if needed\n",
        "\n",
        "        return max_length  # Return the length of the longest consecutive sequence\n",
        "\n",
        "# Test the function\n",
        "nums = [100, 4, 200, 1, 3, 2]\n",
        "print(nums)\n",
        "print(longestConsecutive(nums))"
      ],
      "metadata": {
        "colab": {
          "base_uri": "https://localhost:8080/"
        },
        "id": "nEHwLiNClu5O",
        "outputId": "788a5341-ed04-4ebf-a4cb-f91c174b58d1"
      },
      "execution_count": 52,
      "outputs": [
        {
          "output_type": "stream",
          "name": "stdout",
          "text": [
            "[100, 4, 200, 1, 3, 2]\n",
            "4\n"
          ]
        }
      ]
    },
    {
      "cell_type": "markdown",
      "source": [
        "**Algorithm**\n",
        "\n",
        "1. The longestConsecutive function finds the length of the longest consecutive sequence in an array of numbers.\n",
        "\n",
        "2. It uses a set called num_set to store the numbers in the array, enabling efficient lookups.\n",
        "\n",
        "3. The max_length variable keeps track of the maximum consecutive sequence length.\n",
        "\n",
        "4. For each number num in the array, it checks if num - 1 is not in the num_set. If true, it indicates a potential starting point of a sequence.\n",
        "\n",
        "5. Inside the loop, it initializes current_num and current_length to count the length of the consecutive sequence starting from the potential starting point.\n",
        "\n",
        "6. It increments current_num and current_length as long as the next consecutive number exists in the num_set.\n",
        "\n",
        "7. The function updates max_length if the current sequence length is greater.\n",
        "\n",
        "8. After iterating through all numbers, the function returns the maximum sequence length."
      ],
      "metadata": {
        "id": "M0VCCZoNn5z9"
      }
    }
  ]
}