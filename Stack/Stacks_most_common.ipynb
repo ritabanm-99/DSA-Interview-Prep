{
  "nbformat": 4,
  "nbformat_minor": 0,
  "metadata": {
    "colab": {
      "provenance": []
    },
    "kernelspec": {
      "name": "python3",
      "display_name": "Python 3"
    },
    "language_info": {
      "name": "python"
    }
  },
  "cells": [
    {
      "cell_type": "markdown",
      "source": [
        "# **Stacks**\n",
        "\n",
        "This notebook covers the most commonly asked questions regarding stacks during technical interviews."
      ],
      "metadata": {
        "id": "hCHPBfla3m0a"
      }
    },
    {
      "cell_type": "markdown",
      "source": [
        "**1**. **Valid Parentheses**\n",
        "\n",
        "Given a string s containing just the characters '(', ')', '{', '}', '[' and ']', determine if the input string is valid.\n",
        "\n",
        "An input string is valid if:\n",
        "\n",
        "1. Open brackets must be closed by the same type of brackets.\n",
        "\n",
        "2. Open brackets must be closed in the correct order.\n",
        "\n",
        "3. Every close bracket has a corresponding open bracket of the same type.\n",
        "\n",
        "**Example:**\n",
        "\n",
        "**Input:** s = \"()\"\n",
        "\n",
        "**Output:** true\n",
        "\n",
        "**Reference:** https://leetcode.com/problems/valid-parentheses/?envType=study-plan-v2&envId=top-interview-150"
      ],
      "metadata": {
        "id": "hfc2wuEa3yhE"
      }
    },
    {
      "cell_type": "code",
      "execution_count": 6,
      "metadata": {
        "colab": {
          "base_uri": "https://localhost:8080/"
        },
        "id": "j7JuJVWF3kGp",
        "outputId": "d9ad6355-27de-476a-d1b9-60490c994146"
      },
      "outputs": [
        {
          "output_type": "stream",
          "name": "stdout",
          "text": [
            "Expression: (), Expected: True, Result: True\n",
            "Expression: ()[]{}, Expected: True, Result: True\n",
            "Expression: (], Expected: False, Result: False\n",
            "Expression: ([)], Expected: False, Result: False\n",
            "Expression: {[]}, Expected: True, Result: True\n",
            "Expression: , Expected: True, Result: True\n",
            "Expression: [({})], Expected: True, Result: True\n",
            "Expression: [{)}], Expected: False, Result: False\n",
            "Expression: (, Expected: False, Result: False\n",
            "Expression: ), Expected: False, Result: False\n"
          ]
        }
      ],
      "source": [
        "def isValid(s):\n",
        "        # Create a pair of opening and closing parrenthesis...\n",
        "        opcl = dict(('()', '[]', '{}'))\n",
        "        # Create stack data structure...\n",
        "        stack = []\n",
        "        # Traverse each charater in input string...\n",
        "        for idx in s:\n",
        "            # If open parentheses are present, append it to stack...\n",
        "            if idx in '([{':\n",
        "                stack.append(idx)\n",
        "            # If the character is closing parentheses, check that the same type opening parentheses is being pushed to the stack or not...\n",
        "            # If not, we need to return false...\n",
        "            elif len(stack) == 0 or idx != opcl[stack.pop()]:\n",
        "                return False\n",
        "        # At last, we check if the stack is empty or not...\n",
        "        # If the stack is empty it means every opened parenthesis is being closed and we can return true, otherwise we return false...\n",
        "        return len(stack) == 0\n",
        "\n",
        "  #testing the function\n",
        "test_cases = [\n",
        "    (\"()\", True),          # Simple valid case\n",
        "    (\"()[]{}\", True),      # Valid with multiple types of brackets\n",
        "    (\"(]\", False),         # Invalid due to mismatch\n",
        "    (\"([)]\", False),       # Invalid due to incorrect nesting\n",
        "    (\"{[]}\", True),        # Valid with proper nesting\n",
        "    (\"\", True),            # Empty expression is valid\n",
        "    (\"[({})]\", True),      # Complex but valid\n",
        "    (\"[{)}]\", False),      # Invalid due to incorrect nesting\n",
        "    (\"(\", False),          # Invalid due to unmatched opening\n",
        "    (\")\", False)           # Invalid due to unmatched closing\n",
        "]\n",
        "\n",
        "for expression, expected in test_cases:\n",
        "    result = isValid(expression)\n",
        "    print(f\"Expression: {expression}, Expected: {expected}, Result: {result}\")\n"
      ]
    },
    {
      "cell_type": "markdown",
      "source": [
        "**Algorithm**\n",
        "\n",
        "The isValid function checks if a given string of parentheses and brackets is valid in terms of proper opening and closing pairs.\n",
        "A dictionary opcl is created to store pairs of valid opening and closing symbols.\n",
        "A stack data structure is used to track the opening symbols encountered while traversing the input string.\n",
        "The function iterates through each character in the string. If it's an opening symbol, it's pushed onto the stack. For closing symbols, it's compared to the corresponding opening symbol popped from the stack. If they don't match, or the stack is empty, it's invalid.\n",
        "After iterating through the string, the function returns True if the stack is empty (indicating all opening symbols were properly closed), else it returns False.\n"
      ],
      "metadata": {
        "id": "locfdrnp6g2m"
      }
    },
    {
      "cell_type": "markdown",
      "source": [
        "2. **Simplify Path**\n",
        "\n",
        "Given a string path, which is an absolute path (starting with a slash '/') to a file or directory in a Unix-style file system, convert it to the simplified canonical path.\n",
        "\n",
        "In a Unix-style file system, a period '.' refers to the current directory, a double period '..' refers to the directory up a level, and any multiple consecutive slashes (i.e. '//') are treated as a single slash '/'. For this problem, any other format of periods such as '...' are treated as file/directory names.\n",
        "\n",
        "The canonical path should have the following format:\n",
        "\n",
        "The path starts with a single slash '/'.\n",
        "Any two directories are separated by a single slash '/'.\n",
        "The path does not end with a trailing '/'.\n",
        "The path only contains the directories on the path from the root directory to the target file or directory (i.e., no period '.' or double period '..')\n",
        "Return the simplified canonical path\n",
        "\n",
        "**Example:**\n",
        "\n",
        "**Input:** path = \"/home/\"\n",
        "\n",
        "**Output:** \"/home\"\n",
        "\n",
        "\n",
        "**Explanation:** Note that there is no trailing slash after the last directory name.\n",
        "\n",
        "**Reference:** https://leetcode.com/problems/simplify-path/?envType=study-plan-v2&envId=top-interview-150"
      ],
      "metadata": {
        "id": "kH6bsqwr6vfT"
      }
    },
    {
      "cell_type": "code",
      "source": [
        "def simplifyPath(path):\n",
        "        components = path.split(\"/\")  # Split the path into components using \"/\" delimiter\n",
        "        stack = []  # Initialize a stack to store the simplified path\n",
        "\n",
        "        for component in components:\n",
        "            if component == \"..\":\n",
        "                if stack:\n",
        "                    stack.pop()  # If \"..\" encountered, go up one directory by popping from stack\n",
        "            elif component and component != \".\":\n",
        "                stack.append(component)  # If not \".\", \"..\", or empty, go into directory by pushing to stack\n",
        "\n",
        "        return \"/\" + \"/\".join(stack)  # Join the components in stack with \"/\" delimiter and add leading \"/\"\n",
        "\n",
        "# Test the function\n",
        "path = \"/home//foo/\"\n",
        "print(\"path:\",path)\n",
        "simplified_path = simplifyPath(path)\n",
        "print(\"simplified_path:\",simplified_path)  # Output: \"/home/foo\"\n"
      ],
      "metadata": {
        "colab": {
          "base_uri": "https://localhost:8080/"
        },
        "id": "3qvAEak_54Ey",
        "outputId": "6cf24668-b12a-4bce-d6cc-16fecbf67a5a"
      },
      "execution_count": 10,
      "outputs": [
        {
          "output_type": "stream",
          "name": "stdout",
          "text": [
            "path: /home//foo/\n",
            "simplified_path: /home/foo\n"
          ]
        }
      ]
    },
    {
      "cell_type": "markdown",
      "source": [
        "**Algorithm**\n",
        "\n",
        "1. The simplifyPath function takes a path string and simplifies it by handling \".\" (current directory) and \"..\" (parent directory) components.\n",
        "\n",
        "2. It splits the input path into components using the \"/\" delimiter and initializes an empty stack to build the simplified path.\n",
        "\n",
        "3. The loop iterates through each component:\n",
        "\n",
        "4. If the component is \"..\", it checks if the stack is not empty before popping (going up one directory).\n",
        "If the component is not \".\" or empty, it's added to the stack (going into a directory).\n",
        "\n",
        "5. The function then joins the components in the stack with \"/\" delimiter, adds a leading \"/\", and returns the simplified path.\n",
        "\n",
        "6. The provided test path is \"/home//foo/\" and the simplified output is \"/home/foo\""
      ],
      "metadata": {
        "id": "hHo7Topv8LbV"
      }
    },
    {
      "cell_type": "markdown",
      "source": [
        "3. **Min Stack**\n",
        "\n",
        "\n",
        "Design a stack that supports push, pop, top, and retrieving the minimum element in constant time.\n",
        "\n",
        "Implement the MinStack class:\n",
        "\n",
        "MinStack() initializes the stack object.\n",
        "\n",
        "void push(int val) pushes the element val onto the stack.\n",
        "\n",
        "void pop() removes the element on the top of the stack.\n",
        "\n",
        "int top() gets the top element of the stack.\n",
        "\n",
        "int getMin() retrieves the minimum element in the stack.\n",
        "\n",
        "You must implement a solution with O(1) time complexity for each function.\n",
        "\n",
        "**Input**\n",
        "\n",
        "[\"MinStack\",\"push\",\"push\",\"push\",\"getMin\",\"pop\",\"top\",\"getMin\"]\n",
        "[[],[-2],[0],[-3],[],[],[],[]]\n",
        "\n",
        "**Output**\n",
        "[null,null,null,null,-3,null,0,-2]\n",
        "\n",
        "**Reference:** https://leetcode.com/problems/min-stack/?envType=study-plan-v2&envId=top-interview-150"
      ],
      "metadata": {
        "id": "fbD7rCx48iBg"
      }
    },
    {
      "cell_type": "code",
      "source": [
        "class MinStack:\n",
        "    def __init__(self):\n",
        "        self.stack = []       # To store elements\n",
        "        self.min_stack = []   # To store minimum elements\n",
        "\n",
        "    def push(self, val: int) -> None:\n",
        "        self.stack.append(val)  # Push the element onto the main stack\n",
        "\n",
        "        # Check if the minimum stack is empty or if the current element is smaller than or equal to the top element of the minimum stack\n",
        "        # If true, push the current element onto the minimum stack\n",
        "        if not self.min_stack or val <= self.min_stack[-1]:\n",
        "            self.min_stack.append(val)\n",
        "\n",
        "    def pop(self) -> None:\n",
        "        if self.stack:\n",
        "            # If the popped element is equal to the top element of the minimum stack, pop from the minimum stack as well\n",
        "            if self.stack[-1] == self.min_stack[-1]:\n",
        "                self.min_stack.pop()\n",
        "            self.stack.pop()  # Pop the element from the main stack\n",
        "\n",
        "    def top(self) -> int:\n",
        "        if self.stack:\n",
        "            return self.stack[-1]  # Return the top element of the main stack\n",
        "\n",
        "    def getMin(self) -> int:\n",
        "        if self.min_stack:\n",
        "            return self.min_stack[-1]  # Return the top element of the minimum stack\n",
        "\n",
        "# Test the class\n",
        "minStack = MinStack()\n",
        "minStack.push(-2)\n",
        "minStack.push(0)\n",
        "minStack.push(-3)\n",
        "print(minStack.getMin())  # Output: -3\n",
        "minStack.pop()\n",
        "print(minStack.top())     # Output: 0\n",
        "print(minStack.getMin())  # Output: -2\n"
      ],
      "metadata": {
        "colab": {
          "base_uri": "https://localhost:8080/"
        },
        "id": "c1E4jfDB8BgX",
        "outputId": "215a0903-3b95-4f71-9f84-bb88813458b2"
      },
      "execution_count": 2,
      "outputs": [
        {
          "output_type": "stream",
          "name": "stdout",
          "text": [
            "-3\n",
            "0\n",
            "-2\n"
          ]
        }
      ]
    },
    {
      "cell_type": "markdown",
      "source": [
        "**Algorithm**\n",
        "\n",
        "1. The MinStack class maintains two stacks: stack to store elements and min_stack to store minimum elements.\n",
        "\n",
        "2. The push method appends an element to the main stack. It also checks and pushes the element to the minimum stack if it's the smallest element encountered so far.\n",
        "\n",
        "3. The pop method removes an element from the main stack. If the popped element matches the top element of the minimum stack, it's also popped from the minimum stack.\n",
        "\n",
        "4. The top method returns the top element of the main stack without removing it.\n",
        "\n",
        "5. The getMin method returns the smallest element from the minimum stack.\n",
        "\n",
        "6. The provided test demonstrates the usage of the MinStack class and its methods"
      ],
      "metadata": {
        "id": "3wrBR9BKAbdq"
      }
    },
    {
      "cell_type": "markdown",
      "source": [
        "4. **Evaluate Reverse Polish Notation**\n",
        "\n",
        "\n",
        "You are given an array of strings tokens that represents an arithmetic expression in a Reverse Polish Notation.\n",
        "\n",
        "Evaluate the expression. Return an integer that represents the value of the expression.\n",
        "\n",
        "Note that:\n",
        "\n",
        "The valid operators are '+', '-', '*', and '/'.\n",
        "Each operand may be an integer or another expression.\n",
        "The division between two integers always truncates toward zero.\n",
        "There will not be any division by zero.\n",
        "The input represents a valid arithmetic expression in a reverse polish notation.\n",
        "The answer and all the intermediate calculations can be represented in a 32-bit integer.\n",
        "\n",
        "**Reference:**https://leetcode.com/problems/evaluate-reverse-polish-notation/?envType=study-plan-v2&envId=top-interview-150\n"
      ],
      "metadata": {
        "id": "_JPgfTUFAbRa"
      }
    },
    {
      "cell_type": "code",
      "source": [
        "def evalRPN(tokens):\n",
        "        stack = []  # Stack to store numbers\n",
        "\n",
        "        for token in tokens:\n",
        "            if token.isdigit() or (token[0] == \"-\" and token[1:].isdigit()):\n",
        "                # If the token is an operand, push it onto the stack\n",
        "                stack.append(int(token))\n",
        "            else:\n",
        "                # If the token is an operator, pop required operands and perform the operation\n",
        "                operand2 = stack.pop()\n",
        "                operand1 = stack.pop()\n",
        "                if token == \"+\":\n",
        "                    stack.append(operand1 + operand2)\n",
        "                elif token == \"-\":\n",
        "                    stack.append(operand1 - operand2)\n",
        "                elif token == \"*\":\n",
        "                    stack.append(operand1 * operand2)\n",
        "                elif token == \"/\":\n",
        "                    stack.append(int(operand1 / operand2))\n",
        "\n",
        "        return stack[0]  # Return the final result\n",
        "\n",
        "# Test the function\n",
        "expression = [\"2\", \"1\", \"+\", \"3\", \"*\"]\n",
        "print(\"expression:\", expression)\n",
        "result = evalRPN(expression)\n",
        "print(result)  # Output: 9\n"
      ],
      "metadata": {
        "colab": {
          "base_uri": "https://localhost:8080/"
        },
        "id": "VkwDAjMGA25p",
        "outputId": "a297d28b-a145-45ec-df15-20d53fa7cd0a"
      },
      "execution_count": 5,
      "outputs": [
        {
          "output_type": "stream",
          "name": "stdout",
          "text": [
            "expression: ['2', '1', '+', '3', '*']\n",
            "9\n"
          ]
        }
      ]
    },
    {
      "cell_type": "markdown",
      "source": [
        "**Algorithm:**\n",
        "\n",
        "1. The evalRPN function evaluates a given list of tokens in reverse Polish notation using a stack to process operators and operands.\n",
        "\n",
        "2. It iterates through each token in the list:\n",
        "If the token is an operand, it's pushed onto the stack.\n",
        "If the token is an operator, the required operands are popped from the stack, the operation is performed, and the result is pushed back onto the stack.\n",
        "\n",
        "3. After processing all tokens, the final result is the only element left in the stack, which is returned.\n",
        "\n",
        "4. The provided test with the expression [\"2\", \"1\", \"+\", \"3\", \"*\"] demonstrates evaluating (2 + 1) * 3, resulting in 9.\n",
        "\n",
        "5. The solution utilizes a stack to efficiently compute the result of a reverse Polish notation expression."
      ],
      "metadata": {
        "id": "qUQ0BvduBQ-J"
      }
    },
    {
      "cell_type": "markdown",
      "source": [
        "5. Given a string s representing a valid expression, implement a basic calculator to evaluate it, and return the result of the evaluation.\n",
        "\n",
        "Note: You are not allowed to use any built-in function which evaluates strings as mathematical expressions, such as eval().\n",
        "\n",
        "\n",
        "**Example:**\n",
        "\n",
        "**Input:** s = \"1 + 1\"\n",
        "\n",
        "**Output:** 2\n",
        "\n",
        "**Reference:** https://leetcode.com/problems/basic-calculator/?envType=study-plan-v2&envId=top-interview-150"
      ],
      "metadata": {
        "id": "bMW_WaYtBni9"
      }
    },
    {
      "cell_type": "code",
      "source": [
        "def calculate(s):\n",
        "        stack = []      # Stack to handle signs for parentheses\n",
        "        result = 0\n",
        "        num = 0          # Variable to build numbers from digits\n",
        "        sign = 1         # Current sign\n",
        "\n",
        "        for char in s:\n",
        "            if char.isdigit():\n",
        "                num = num * 10 + int(char)  # Build numbers from digits\n",
        "            elif char == \"+\":\n",
        "                result += sign * num        # Add the current number to result\n",
        "                num = 0                     # Reset num for next number\n",
        "                sign = 1                    # Update sign to positive\n",
        "            elif char == \"-\":\n",
        "                result += sign * num        # Add the current number to result\n",
        "                num = 0                     # Reset num for next number\n",
        "                sign = -1                   # Update sign to negative\n",
        "            elif char == \"(\":\n",
        "                stack.append(result)        # Push result onto stack\n",
        "                stack.append(sign)          # Push sign onto stack\n",
        "                result = 0                  # Reset result for subexpression\n",
        "                sign = 1                    # Reset sign to positive\n",
        "            elif char == \")\":\n",
        "                result += sign * num        # Add the last number to result\n",
        "                result *= stack.pop()       # Multiply by the sign from the stack\n",
        "                result += stack.pop()       # Add the previous result from the stack\n",
        "                num = 0                     # Reset num for next number\n",
        "\n",
        "        result += sign * num                # Add the final number to result\n",
        "\n",
        "        return result\n",
        "\n",
        "# Test the function\n",
        "expression = \"(1+(4+5+2)-3)+(6+8)\"\n",
        "print(\"expression:\", expression)\n",
        "result = calculate(expression)\n",
        "print(result)  # Output: 23\n"
      ],
      "metadata": {
        "colab": {
          "base_uri": "https://localhost:8080/"
        },
        "id": "YVWmkjgHBEjz",
        "outputId": "24d6dace-5b3b-43e0-ba50-1322d1accef2"
      },
      "execution_count": 9,
      "outputs": [
        {
          "output_type": "stream",
          "name": "stdout",
          "text": [
            "expression: (1+(4+5+2)-3)+(6+8)\n",
            "23\n"
          ]
        }
      ]
    },
    {
      "cell_type": "markdown",
      "source": [
        "5. **Basic Calculator:**\n",
        "\n",
        "Given a string s representing a valid expression, implement a basic calculator to evaluate it, and return the result of the evaluation.\n",
        "\n",
        "Note: You are not allowed to use any built-in function which evaluates strings as mathematical expressions, such as eval().\n",
        "\n",
        "**Example:**\n",
        "\n",
        "**Input:** s = \"(1+(4+5+2)-3)+(6+8)\"\n",
        "\n",
        "**Output:** 23\n",
        "\n",
        "**Reference:** https://leetcode.com/problems/basic-calculator/description/?envType=study-plan-v2&envId=top-interview-150"
      ],
      "metadata": {
        "id": "CGjFi61WCoWR"
      }
    },
    {
      "cell_type": "code",
      "source": [
        "def calculate(s):\n",
        "        stack = []      # Stack to handle signs for parentheses\n",
        "        result = 0\n",
        "        num = 0          # Variable to build numbers from digits\n",
        "        sign = 1         # Current sign\n",
        "\n",
        "        for char in s:\n",
        "            if char.isdigit():\n",
        "                num = num * 10 + int(char)  # Build numbers from digits\n",
        "            elif char == \"+\":\n",
        "                result += sign * num        # Add the current number to result\n",
        "                num = 0                     # Reset num for next number\n",
        "                sign = 1                    # Update sign to positive\n",
        "            elif char == \"-\":\n",
        "                result += sign * num        # Add the current number to result\n",
        "                num = 0                     # Reset num for next number\n",
        "                sign = -1                   # Update sign to negative\n",
        "            elif char == \"(\":\n",
        "                stack.append(result)        # Push result onto stack\n",
        "                stack.append(sign)          # Push sign onto stack\n",
        "                result = 0                  # Reset result for subexpression\n",
        "                sign = 1                    # Reset sign to positive\n",
        "            elif char == \")\":\n",
        "                result += sign * num        # Add the last number to result\n",
        "                result *= stack.pop()       # Multiply by the sign from the stack\n",
        "                result += stack.pop()       # Add the previous result from the stack\n",
        "                num = 0                     # Reset num for next number\n",
        "\n",
        "        result += sign * num                # Add the final number to result\n",
        "\n",
        "        return result\n",
        "\n",
        "# Test the function\n",
        "expression = \"(1+(4+5+2)-3)+(6+8)\"\n",
        "print(\"expression:\",expression)\n",
        "result = calculate(expression)\n",
        "print(result)  # Output: 23\n"
      ],
      "metadata": {
        "colab": {
          "base_uri": "https://localhost:8080/"
        },
        "id": "5fMXZrx8Cd69",
        "outputId": "3617f623-5635-4156-9d46-7f4a5bb2c1e1"
      },
      "execution_count": 13,
      "outputs": [
        {
          "output_type": "stream",
          "name": "stdout",
          "text": [
            "expression: (1+(4+5+2)-3)+(6+8)\n",
            "23\n"
          ]
        }
      ]
    },
    {
      "cell_type": "markdown",
      "source": [
        "**Algorithm:**\n",
        "\n",
        "1. The calculate function processes a mathematical expression string with parentheses and calculates its value.\n",
        "\n",
        "2. It iterates through each character in the expression:\n",
        "\n",
        "-> If the character is a digit, it builds a number from consecutive digits.\n",
        "\n",
        "-> If the character is \"+\" or \"-\", it adds the previously built number to the result with the current sign, then resets the number and updates the sign.\n",
        "\n",
        "-> If the character is \"(\", it pushes the current result and sign onto the stack and resets them for a subexpression.\n",
        "\n",
        "-> If the character is \")\", it adds the last built number to the result, adjusts the result based on the previous sign and result from the stack, and resets the number.\n",
        "\n",
        "3. The final calculated result is adjusted by the sign of the last number and returned.\n",
        "\n",
        "4. The provided test with the expression \"(1+(4+5+2)-3)+(6+8)\" demonstrates the corrected functionality of the calculate function"
      ],
      "metadata": {
        "id": "MhGTxO0wDUK9"
      }
    }
  ]
}