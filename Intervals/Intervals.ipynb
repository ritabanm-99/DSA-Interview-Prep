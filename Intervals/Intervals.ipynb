{
  "nbformat": 4,
  "nbformat_minor": 0,
  "metadata": {
    "colab": {
      "provenance": []
    },
    "kernelspec": {
      "name": "python3",
      "display_name": "Python 3"
    },
    "language_info": {
      "name": "python"
    }
  },
  "cells": [
    {
      "cell_type": "markdown",
      "source": [
        "# **Intervals**\n",
        "\n",
        "In this notebook, we look at the most commonly asked technical interview questions regarding Intervals from Leetcode."
      ],
      "metadata": {
        "id": "QuPoSyfJvyNw"
      }
    },
    {
      "cell_type": "markdown",
      "source": [
        "1. **Summary Ranges**\n",
        "\n",
        "You are given a sorted unique integer array nums.\n",
        "\n",
        "A range [a,b] is the set of all integers from a to b (inclusive).\n",
        "\n",
        "Return the smallest sorted list of ranges that cover all the numbers in the array exactly. That is, each element of nums is covered by exactly one of the ranges, and there is no integer x such that x is in one of the ranges but not in nums.\n",
        "\n",
        "Each range [a,b] in the list should be output as:\n",
        "\n",
        "\"a->b\" if a != b\n",
        "\n",
        "\"a\" if a == b\n",
        "\n",
        "**Example:**\n",
        "\n",
        "**Input:** nums = [0,1,2,4,5,7]\n",
        "\n",
        "**Output**: [\"0->2\",\"4->5\",\"7\"]\n",
        "\n",
        "**Explanation:** The ranges are:\n",
        "\n",
        "[0,2] --> \"0->2\"\n",
        "\n",
        "[4,5] --> \"4->5\"\n",
        "\n",
        "[7,7] --> \"7\"\n",
        "\n",
        "**Reference:**  https://leetcode.com/problems/summary-ranges/submissions/?envType=study-plan-v2&envId=top-interview-150"
      ],
      "metadata": {
        "id": "5ZxIt2_SwGa9"
      }
    },
    {
      "cell_type": "code",
      "source": [
        "def summaryRanges(nums):\n",
        "\n",
        "        # Check if the input list is empty\n",
        "        if nums == []:\n",
        "            return []\n",
        "\n",
        "        # Initialize the list to store the summary ranges\n",
        "        ranges = []\n",
        "\n",
        "        # Initialize variables for the start and end of the range\n",
        "        start = nums[0]\n",
        "        end = nums[0]\n",
        "\n",
        "        # Iterate through the numbers starting from the second element\n",
        "        for num in nums[1:]:\n",
        "            if num == end + 1:\n",
        "                # The number is consecutive, update the end of the range\n",
        "                end = num\n",
        "            else:\n",
        "                # The number is not consecutive, add the current range to the result list\n",
        "                if start == end:\n",
        "                    ranges.append(str(start))\n",
        "                else:\n",
        "                    ranges.append(f\"{start}->{end}\")\n",
        "\n",
        "                # Reset the start and end to the current number\n",
        "                start = num\n",
        "                end = num\n",
        "\n",
        "        # Add the last range to the result list\n",
        "        if start == end:\n",
        "            ranges.append(str(start))\n",
        "        else:\n",
        "            ranges.append(f\"{start}->{end}\")\n",
        "\n",
        "        return ranges\n",
        "\n",
        "nums = [0,1,2,4,5,7]\n",
        "summaryRanges(nums)"
      ],
      "metadata": {
        "colab": {
          "base_uri": "https://localhost:8080/"
        },
        "id": "C3vefLB5y4nk",
        "outputId": "1243727d-1cb7-4461-d1ad-115e169f942c"
      },
      "execution_count": 3,
      "outputs": [
        {
          "output_type": "execute_result",
          "data": {
            "text/plain": [
              "['0->2', '4->5', '7']"
            ]
          },
          "metadata": {},
          "execution_count": 3
        }
      ]
    },
    {
      "cell_type": "markdown",
      "source": [
        "**Algorithm**\n",
        "\n",
        "The summaryRanges function takes a list of integers nums and returns a list of string summaries of consecutive number ranges.\n",
        "\n",
        "It initializes ranges list and start and end variables to keep track of the current range.\n",
        "\n",
        "The function iterates through the sorted nums, extending the current range if the current number is consecutive.\n",
        "\n",
        "When a non-consecutive number is encountered, it appends the current range (formatted as a string) to the ranges list and resets start and end.\n",
        "\n",
        "The last range is also added to the ranges list before returning the final result."
      ],
      "metadata": {
        "id": "8K5-8Er6xE8x"
      }
    },
    {
      "cell_type": "markdown",
      "source": [
        "2. **Merge Intervals:**\n",
        "\n",
        "Given an array of intervals where intervals[i] = [starti, endi], merge all overlapping intervals, and return an array of the non-overlapping intervals that cover all the intervals in the input.\n",
        "\n",
        "**Example:**\n",
        "\n",
        "**Input:** intervals = [[1,3],[2,6],[8,10],[15,18]]\n",
        "\n",
        "**Output:** [[1,6],[8,10],[15,18]]\n",
        "\n",
        "**Explanation:** Since intervals [1,3] and [2,6] overlap, merge them into [1,6].\n",
        "\n",
        "\n",
        "**Reference:**\n",
        "https://leetcode.com/problems/summary-ranges/?envType=study-plan-v2&envId=top-interview-150\n"
      ],
      "metadata": {
        "id": "kyTiuTvGxHwt"
      }
    },
    {
      "cell_type": "code",
      "execution_count": 18,
      "metadata": {
        "colab": {
          "base_uri": "https://localhost:8080/"
        },
        "id": "BYE3OKgzvu7T",
        "outputId": "8159f044-23c6-4cdc-c73a-1fcc284602cf"
      },
      "outputs": [
        {
          "output_type": "stream",
          "name": "stdout",
          "text": [
            "intervals: [[1, 3], [2, 6], [8, 10], [15, 18]]\n",
            "merged intervals: [[1, 6], [8, 10], [15, 18]]\n"
          ]
        }
      ],
      "source": [
        "def merge(intervals):\n",
        "    intervals.sort(key=lambda x: x[0])  # Sort intervals based on the start value\n",
        "    merged = []  # List to store the merged intervals\n",
        "\n",
        "    for interval in intervals:\n",
        "        if not merged or merged[-1][1] < interval[0]:\n",
        "            # If merged is empty or the current interval doesn't overlap with the last merged interval,\n",
        "            # add the current interval to merged\n",
        "            merged.append(interval)\n",
        "        else:\n",
        "            # If the current interval overlaps with the last merged interval, merge them by extending the end value\n",
        "            merged[-1][1] = max(merged[-1][1], interval[1])\n",
        "\n",
        "    return merged  # Return the merged intervals\n",
        "\n",
        "intervals = [[1,3],[2,6],[8,10],[15,18]]\n",
        "print(\"intervals:\", intervals)\n",
        "print(\"merged intervals:\", merge(intervals))\n"
      ]
    },
    {
      "cell_type": "markdown",
      "source": [
        "3. **Insert Interval**\n",
        "\n",
        "You are given an array of non-overlapping intervals intervals where intervals[i] = [starti, endi] represent the start and the end of the ith interval and intervals is sorted in ascending order by starti. You are also given an interval newInterval = [start, end] that represents the start and end of another interval.\n",
        "\n",
        "Insert newInterval into intervals such that intervals is still sorted in ascending order by starti and intervals still does not have any overlapping intervals (merge overlapping intervals if necessary).\n",
        "\n",
        "Return intervals after the insertion.\n",
        "\n",
        "**Example:**\n",
        "\n",
        "**Input:** intervals = [[1,3],[6,9]], newInterval = [2,5]\n",
        "\n",
        "**Output:** [[1,5],[6,9]]\n",
        "\n",
        "\n",
        "**Reference:** https://leetcode.com/problems/insert-interval/?envType=study-plan-v2&envId=top-interview-150"
      ],
      "metadata": {
        "id": "XkzUFJyU0F09"
      }
    },
    {
      "cell_type": "code",
      "source": [
        "def insert(intervals, new_interval):\n",
        "        result = []  # List to store the merged intervals\n",
        "        i = 0  # Initialize the index for iterating through intervals\n",
        "        n = len(intervals)  # Total number of intervals\n",
        "\n",
        "        # Add intervals that end before new_interval starts\n",
        "        while i < n and intervals[i][1] < new_interval[0]:\n",
        "            result.append(intervals[i])  # Add non-overlapping intervals to the result\n",
        "            i += 1\n",
        "\n",
        "        # Merge overlapping intervals with new_interval\n",
        "        while i < n and intervals[i][0] <= new_interval[1]:\n",
        "            new_interval[0] = min(new_interval[0], intervals[i][0])  # Update new_interval's start\n",
        "            new_interval[1] = max(new_interval[1], intervals[i][1])  # Update new_interval's end\n",
        "            i += 1\n",
        "\n",
        "        result.append(new_interval)  # Add the merged new_interval to the result\n",
        "\n",
        "        # Add remaining intervals\n",
        "        while i < n:\n",
        "            result.append(intervals[i])  # Add non-overlapping intervals to the result\n",
        "            i += 1\n",
        "\n",
        "        return result  # Return the merged intervals\n",
        "\n",
        "# Test the function\n",
        "intervals = [[1,3],[6,9]]\n",
        "print(\"intervals:\", intervals)\n",
        "new_interval = [2,5]\n",
        "print(\"new_interval:\", intervals )\n",
        "merged_intervals = insert(intervals, new_interval)\n",
        "print(\"merged_intervals:\", merged_intervals)  # Output: [[1,5],[6,9]]\n"
      ],
      "metadata": {
        "colab": {
          "base_uri": "https://localhost:8080/"
        },
        "id": "yGMPOS1yy11x",
        "outputId": "68add97b-4f05-4146-e20d-035005ea86f7"
      },
      "execution_count": 25,
      "outputs": [
        {
          "output_type": "stream",
          "name": "stdout",
          "text": [
            "intervals: [[1, 3], [6, 9]]\n",
            "new_interval: [[1, 3], [6, 9]]\n",
            "merged_intervals: [[1, 5], [6, 9]]\n"
          ]
        }
      ]
    },
    {
      "cell_type": "markdown",
      "source": [
        "**Algorithm:**\n",
        "\n",
        "1. The insert function merges intervals, considering both overlapping and non-overlapping cases.\n",
        "\n",
        "2. It initializes an empty result list to store the merged intervals and i to iterate through the intervals.\n",
        "\n",
        "3. The first loop adds non-overlapping intervals (those ending before the new interval starts) to the result.\n",
        "\n",
        "4. The second loop merges overlapping intervals with the new interval by updating the start and end of the new interval.\n",
        "\n",
        "5. After merging, the new interval is appended to the result.\n",
        "\n",
        "6. The final loop adds any remaining non-overlapping intervals to the result.\n",
        "\n",
        "7. The merged intervals are returned as the result."
      ],
      "metadata": {
        "id": "EMsp41cR1hrG"
      }
    },
    {
      "cell_type": "markdown",
      "source": [
        "4. **Minimum Number of Arrows to Burst Balloons**\n",
        "\n",
        "There are some spherical balloons taped onto a flat wall that represents the XY-plane. The balloons are represented as a 2D integer array points where points[i] = [xstart, xend] denotes a balloon whose horizontal diameter stretches between xstart and xend. You do not know the exact y-coordinates of the balloons.\n",
        "\n",
        "Arrows can be shot up directly vertically (in the positive y-direction) from different points along the x-axis. A balloon with xstart and xend is burst by an arrow shot at x if xstart <= x <= xend. There is no limit to the number of arrows that can be shot. A shot arrow keeps traveling up infinitely, bursting any balloons in its path.\n",
        "\n",
        "Given the array points, return the minimum number of arrows that must be shot to burst all balloons.\n",
        "\n",
        "**Example:**\n",
        "\n",
        "**Input:** points = [[10,16],[2,8],[1,6],[7,12]]\n",
        "\n",
        "**Output:** 2\n",
        "\n",
        "**Explanation:** The balloons can be burst by 2 arrows:\n",
        "- Shoot an arrow at x = 6, bursting the balloons [2,8] and [1,6].\n",
        "- Shoot an arrow at x = 11, bursting the balloons [10,16] and [7,12].\n",
        "\n",
        "**Reference:** https://leetcode.com/problems/minimum-number-of-arrows-to-burst-balloons/?envType=study-plan-v2&envId=top-interview-150"
      ],
      "metadata": {
        "id": "TVU1UlWd1bpw"
      }
    },
    {
      "cell_type": "code",
      "source": [
        "def findMinArrowShots(points):\n",
        "        if not points:\n",
        "            return 0\n",
        "\n",
        "        points.sort(key=lambda x: x[1])  # Sort balloons based on end points\n",
        "        end = points[0][1]  # Initialize end point with the first balloon's end\n",
        "        arrows = 1  # Initialize the number of arrows needed\n",
        "\n",
        "        for i in range(1, len(points)):\n",
        "            if points[i][0] > end:\n",
        "                # Need a new arrow for the current balloon\n",
        "                arrows += 1\n",
        "                end = points[i][1]  # Update end with the current balloon's end\n",
        "            # If points[i][0] <= end, the current balloon can be burst with the current arrow\n",
        "\n",
        "        return arrows\n",
        "\n",
        "# Test the function\n",
        "points = [[10,16],[2,8],[1,6],[7,12]]\n",
        "print(\"points:\",points)\n",
        "min_arrows = findMinArrowShots(points)\n",
        "print(\"min_arrows:\",min_arrows)  # Output: 2\n"
      ],
      "metadata": {
        "colab": {
          "base_uri": "https://localhost:8080/"
        },
        "id": "gUMyts5k1CjS",
        "outputId": "fc458757-b46e-41e8-f684-bbc858852404"
      },
      "execution_count": 26,
      "outputs": [
        {
          "output_type": "stream",
          "name": "stdout",
          "text": [
            "points: [[10, 16], [2, 8], [1, 6], [7, 12]]\n",
            "min_arrows: 2\n"
          ]
        }
      ]
    },
    {
      "cell_type": "markdown",
      "source": [
        "**Algorithm:**\n",
        "\n",
        "The `findMinArrowShots` function calculates the minimum number of arrows needed to burst a list of balloons without missing any.\n",
        "It sorts the balloons based on their end points, ensuring the smallest end points come first.\n",
        "Starting with the first balloon's end point, it iterates through the sorted balloons, updating the end point when a balloon's start point exceeds the current end point.\n",
        "This indicates a new arrow is needed to burst the next set of balloons that start after the current end point.\n",
        "The final count of arrows used is returned as the result."
      ],
      "metadata": {
        "id": "VvWM352B3Rz3"
      }
    }
  ]
}