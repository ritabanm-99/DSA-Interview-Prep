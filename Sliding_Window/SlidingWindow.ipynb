{
  "nbformat": 4,
  "nbformat_minor": 0,
  "metadata": {
    "colab": {
      "provenance": []
    },
    "kernelspec": {
      "name": "python3",
      "display_name": "Python 3"
    },
    "language_info": {
      "name": "python"
    }
  },
  "cells": [
    {
      "cell_type": "markdown",
      "source": [
        "# **Sliding Window Pattern**\n",
        "\n",
        "In this notebook, several of the most asked questions regarding the sliding window pattern are explored.\n",
        "\n"
      ],
      "metadata": {
        "id": "AiTFQWewiArQ"
      }
    },
    {
      "cell_type": "markdown",
      "source": [
        "1. **Minimum Size Subarray Sum**\n",
        "\n",
        "Given an array of positive integers nums and a positive integer target, return the minimal length of a\n",
        "subarray whose sum is greater than or equal to target. If there is no such subarray, return 0 instead.\n",
        "\n",
        "***Example:***\n",
        "\n",
        "***Input:*** target = 7, nums = [2,3,1,2,4,3]\n",
        "\n",
        "***Output:*** 2\n",
        "\n",
        "***Explanation:***The subarray [4,3] has the minimal length under the problem constraint.\n",
        "\n",
        "***Reference:*** https://leetcode.com/problems/minimum-size-subarray-sum/?envType=study-plan-v2&envId=top-interview-150"
      ],
      "metadata": {
        "id": "oilcihRQiRW4"
      }
    },
    {
      "cell_type": "code",
      "execution_count": 3,
      "metadata": {
        "colab": {
          "base_uri": "https://localhost:8080/"
        },
        "id": "UsW9imhMh9UJ",
        "outputId": "10801878-394b-4c42-b247-68119d426794"
      },
      "outputs": [
        {
          "output_type": "stream",
          "name": "stdout",
          "text": [
            "[2, 3, 1, 2, 4, 3]\n",
            "2\n"
          ]
        }
      ],
      "source": [
        "def minSubArrayLen(target, nums):\n",
        "    left = 0  # Initialize the left pointer at the start of the array\n",
        "    min_length = float('inf')  # Initialize with a large value to track the minimum subarray length\n",
        "    current_sum = 0  # Initialize the current sum of the subarray\n",
        "\n",
        "    for right in range(len(nums)):  # Iterate through the array using the right pointer\n",
        "        current_sum += nums[right]  # Add the current element to the current sum\n",
        "\n",
        "        while current_sum >= target:  # Enter a loop to update the minimum length and adjust the sum\n",
        "            min_length = min(min_length, right - left + 1)  # Update the minimum length\n",
        "            current_sum -= nums[left]  # Subtract the element at the left pointer from the sum\n",
        "            left += 1  # Move the left pointer to the right\n",
        "\n",
        "    return min_length if min_length != float('inf') else 0  # Return the minimum length or 0 if not found\n",
        "\n",
        "# Testing the function\n",
        "target = 7\n",
        "nums = [2, 3, 1, 2, 4, 3]\n",
        "print(nums)\n",
        "result = minSubArrayLen(target, nums)\n",
        "print(result)  # Output: 2 (minimum size of subarray with sum at least target)\n"
      ]
    },
    {
      "cell_type": "markdown",
      "source": [
        "**Algorithm:**\n",
        "1. The minSubArrayLen function takes two parameters: target (the target sum) and nums (the array of positive integers).\n",
        "\n",
        "2. The left pointer is initialized at the beginning of the array, min_length is set to a large value to track the minimum subarray length, and current_sum is initialized to zero to track the current sum of the subarray.\n",
        "\n",
        "3. A loop iterates through the nums array using the right pointer.\n",
        "\n",
        "4. The current element at the right pointer is added to the current_sum.\n",
        "\n",
        "5. A while loop is entered as long as the current_sum is greater than or equal to the target:\n",
        "\n",
        "6. The min_length is updated by taking the minimum of the current min_length and the length of the subarray between the left and right pointers.\n",
        "\n",
        "7. The element at the left pointer is subtracted from the current_sum.\n",
        "The left pointer is moved to the right.\n",
        "\n",
        "8. After the loops, the method returns the min_length if it's not infinity, indicating that a subarray with a sum at least equal to the target was found.\n",
        "\n",
        "9. If no such subarray is found, it returns 0.\n",
        "\n",
        "The example usage section creates an instance of the Solution class, calls the minSubArrayLen method with a given target and nums, and prints the minimum size of the subarray with a sum at least equal to the target."
      ],
      "metadata": {
        "id": "AHspRfcxj1SJ"
      }
    },
    {
      "cell_type": "markdown",
      "source": [
        "2. **Longest Substring Without Repeating Characters**\n",
        "\n",
        "Given a string s, find the length of the longest substring without repeating characters.\n",
        "\n",
        "**Example:**\n",
        "\n",
        "**Input:** s = \"abcabcbb\"\n",
        "\n",
        "**Output:** 3\n",
        "\n",
        "**Explanation:** The answer is \"abc\", with the length of 3.\n",
        "\n",
        "**Reference:** https://leetcode.com/problems/longest-substring-without-repeating-characters/description/?envType=study-plan-v2&envId=top-interview-150"
      ],
      "metadata": {
        "id": "Zkd8wv7dkX2n"
      }
    },
    {
      "cell_type": "code",
      "source": [
        "def lengthOfLongestSubstring(s):\n",
        "    char_index = {}  # Dictionary to store the index of each character\n",
        "    max_length = 0  # Initialize the maximum length of substring\n",
        "    start = 0  # Start of the current substring\n",
        "\n",
        "    for end in range(len(s)):  # Loop through the string using the end pointer\n",
        "        if s[end] in char_index and char_index[s[end]] >= start:\n",
        "            start = char_index[s[end]] + 1  # Move the start pointer to the next position after the last occurrence of the character\n",
        "\n",
        "        char_index[s[end]] = end  # Update the index of the current character\n",
        "        max_length = max(max_length, end - start + 1)  # Update the maximum length of substring\n",
        "\n",
        "    return max_length  # Return the maximum length of substring\n",
        "\n",
        "# Testing the function\n",
        "input_string = \"abcabcbb\"\n",
        "print(input_string)\n",
        "result = lengthOfLongestSubstring(input_string)\n",
        "print(result)  # Output: 3 (length of the longest substring without repeating characters)"
      ],
      "metadata": {
        "colab": {
          "base_uri": "https://localhost:8080/"
        },
        "id": "-JU57Z_aiq2L",
        "outputId": "31800da7-da44-49f2-c723-9d15421274da"
      },
      "execution_count": 7,
      "outputs": [
        {
          "output_type": "stream",
          "name": "stdout",
          "text": [
            "abcabcbb\n",
            "3\n"
          ]
        }
      ]
    },
    {
      "cell_type": "markdown",
      "source": [
        "**Algorithm:**\n",
        "1. Initialize a dictionary char_index to store the index of each character.\n",
        "\n",
        "2. Initialize variables max_length and start to track the maximum length of a substring without repeating characters and the start of the current substring.\n",
        "\n",
        "3. Loop through the string using the end pointer.\n",
        "\n",
        "4.  If the current character is already in char_index and its index is greater than or equal to start, move the start pointer to the next position after the last occurrence of that character.\n",
        "\n",
        "5. Update the index of the current character in char_index.\n",
        "\n",
        "6. Update the max_length by taking the maximum of the current max_length and the length of the current substring.\n",
        "\n",
        "7. Finally, return the max_length which represents the length of the longest substring without repeating characters"
      ],
      "metadata": {
        "id": "rUFMqOyHk53d"
      }
    },
    {
      "cell_type": "markdown",
      "source": [
        "3.  **Substring with Concatenation of All Words**\n",
        "\n",
        "You are given a string s and an array of strings words. All the strings of words are of the same length.\n",
        "\n",
        "A concatenated substring in s is a substring that contains all the strings of any permutation of words concatenated.\n",
        "\n",
        "For example, if words = [\"ab\",\"cd\",\"ef\"], then \"abcdef\", \"abefcd\", \"cdabef\", \"cdefab\", \"efabcd\", and \"efcdab\" are all concatenated strings. \"acdbef\" is not a concatenated substring because it is not the concatenation of any permutation of words.\n",
        "Return the starting indices of all the concatenated substrings in s. You can return the answer in any order.\n",
        "\n",
        "**Example:**\n",
        "\n",
        "**Input:** s = \"barfoothefoobarman\", words = [\"foo\",\"bar\"]\n",
        "\n",
        "**Output:** [0,9]\n",
        "\n",
        "**Explanation:** Since words.length == 2 and words[i].length == 3, the concatenated substring has to be of length 6.\n",
        "The substring starting at 0 is \"barfoo\". It is the concatenation of [\"bar\",\"foo\"] which is a permutation of words.\n",
        "The substring starting at 9 is \"foobar\". It is the concatenation of [\"foo\",\"bar\"] which is a permutation of words.\n",
        "The output order does not matter. Returning [9,0] is fine too\n",
        "\n",
        "**Reference:** https://leetcode.com/problems/substring-with-concatenation-of-all-words/?envType=study-plan-v2&envId=top-interview-150"
      ],
      "metadata": {
        "id": "440gdzSKlJTN"
      }
    },
    {
      "cell_type": "code",
      "source": [
        "class Solution:\n",
        "    def findSubstring(self, s, words):\n",
        "        if not s or not words:\n",
        "            return []\n",
        "\n",
        "        word_length = len(words[0])  # Length of each word in the list\n",
        "        total_length = len(words) * word_length  # Total length of concatenated words\n",
        "        words_count = {}  # Dictionary to store the count of each word\n",
        "        result = []  # List to store the starting indices of valid substrings\n",
        "\n",
        "        # Count the occurrences of each word in the list\n",
        "        for word in words:\n",
        "            if word in words_count:\n",
        "                words_count[word] += 1\n",
        "            else:\n",
        "                words_count[word] = 1\n",
        "\n",
        "        # Iterate through possible starting indices within a word length\n",
        "        for i in range(word_length):\n",
        "            left, right = i, i  # Initialize left and right pointers\n",
        "            current_count = {}  # Dictionary to track word counts in the current window\n",
        "            count = 0  # Counter for valid word matches\n",
        "\n",
        "            # Slide the window through the string\n",
        "            while right + word_length <= len(s):\n",
        "                word = s[right:right + word_length]  # Extract the current word\n",
        "                right += word_length  # Move the right pointer\n",
        "\n",
        "                if word in words_count:  # Check if the current word is in the words list\n",
        "                    if word in current_count:\n",
        "                        current_count[word] += 1\n",
        "                    else:\n",
        "                        current_count[word] = 1\n",
        "\n",
        "                    count += 1  # Increment the word count in the current window\n",
        "\n",
        "                    # Adjust the window by removing words until it's valid\n",
        "                    while current_count[word] > words_count[word]:\n",
        "                        removed_word = s[left:left + word_length]  # Extract the leftmost word\n",
        "                        left += word_length  # Move the left pointer\n",
        "                        current_count[removed_word] -= 1\n",
        "                        count -= 1\n",
        "\n",
        "                    if count == len(words):  # If all words are found, add the starting index to the result\n",
        "                        result.append(left)\n",
        "\n",
        "                else:\n",
        "                    current_count.clear()  # Clear the current word counts\n",
        "                    count = 0\n",
        "                    left = right  # Reset pointers to the next position\n",
        "\n",
        "        return result  # Return the list of starting indices\n",
        "\n",
        "# Testing the function usage\n",
        "s = \"barfoothefoobarman\"\n",
        "words = [\"foo\",\"bar\"]\n",
        "solution = Solution()\n",
        "result = solution.findSubstring(s, words)\n",
        "print(\"String: \", s)\n",
        "print(\"Words:\", words)\n",
        "print(result)  # Output: [0, 9]\n"
      ],
      "metadata": {
        "colab": {
          "base_uri": "https://localhost:8080/"
        },
        "id": "3SRBL1LVk0lg",
        "outputId": "02b3acb4-db97-434a-e472-e355ef700db1"
      },
      "execution_count": 15,
      "outputs": [
        {
          "output_type": "stream",
          "name": "stdout",
          "text": [
            "String:  barfoothefoobarman\n",
            "Words: ['foo', 'bar']\n",
            "[0, 9]\n"
          ]
        }
      ]
    },
    {
      "cell_type": "markdown",
      "source": [
        "**Minimum Window Substring:**\n",
        "Given two strings s and t of lengths m and n respectively, return the minimum window substring of s such that every character in t (including duplicates) is included in the window. If there is no such substring, return the empty string \"\".\n",
        "\n",
        "The testcases will be generated such that the answer is unique.\n",
        "\n",
        "***Example:***\n",
        "\n",
        "***Input:*** s = \"ADOBECODEBANC\", t = \"ABC\"\n",
        "\n",
        "***Output:*** \"BANC\"\n",
        "\n",
        "***Explanation:*** The minimum window substring \"BANC\" includes 'A', 'B', and 'C' from string t\n",
        "\n",
        "***Reference:*** https://leetcode.com/problems/minimum-window-substring/"
      ],
      "metadata": {
        "id": "eQBBCp4omjYS"
      }
    },
    {
      "cell_type": "code",
      "source": [
        "from collections import Counter\n",
        "\n",
        "def minWindow(s, t):\n",
        "    if not s or not t:\n",
        "        return \"\"  # Return an empty string if either input string is empty\n",
        "\n",
        "    target_count = Counter(t)  # Count the occurrences of characters in string t\n",
        "    required_chars = len(target_count)  # Count of distinct characters in t\n",
        "    formed_chars = 0  # Count of distinct characters formed in the window\n",
        "    window_chars = Counter()  # Counter for characters in the current window\n",
        "    min_length = float('inf')  # Initialize min_length with a large value\n",
        "    result = \"\"  # Store the minimum window substring\n",
        "\n",
        "    left, right = 0, 0  # Initialize pointers for the sliding window\n",
        "    while right < len(s):  # Slide the window to the right until the end of s\n",
        "        char = s[right]  # Character at the right pointer\n",
        "        window_chars[char] += 1  # Increment the count of char in the window\n",
        "\n",
        "        if char in target_count and window_chars[char] == target_count[char]:\n",
        "            formed_chars += 1  # Increment formed_chars if char forms part of the target\n",
        "\n",
        "        while left <= right and formed_chars == required_chars:\n",
        "            char = s[left]  # Character at the left pointer\n",
        "\n",
        "            if right - left + 1 < min_length:\n",
        "                min_length = right - left + 1  # Update min_length\n",
        "                result = s[left:right + 1]  # Update the minimum window substring\n",
        "\n",
        "            window_chars[char] -= 1  # Decrement the count of char in the window\n",
        "            if char in target_count and window_chars[char] < target_count[char]:\n",
        "                formed_chars -= 1  # Decrement formed_chars if char count falls below required\n",
        "\n",
        "            left += 1  # Move the left pointer to slide the window\n",
        "\n",
        "        right += 1  # Move the right pointer to continue sliding the window\n",
        "\n",
        "    return result  # Return the minimum window substring containing all characters from t\n",
        "\n",
        "# Testing the function usage\n",
        "s = \"ADOBECODEBANC\"\n",
        "t = \"ABC\"\n",
        "print(s)\n",
        "print(t)\n",
        "result = minWindow(s, t)\n",
        "print(result)  # Output: \"BANC\" (minimum window substring)\n"
      ],
      "metadata": {
        "colab": {
          "base_uri": "https://localhost:8080/"
        },
        "id": "fJf_LtIGl_zP",
        "outputId": "951778f7-bf13-4b0f-cb56-794608d299ef"
      },
      "execution_count": 17,
      "outputs": [
        {
          "output_type": "stream",
          "name": "stdout",
          "text": [
            "ADOBECODEBANC\n",
            "ABC\n",
            "BANC\n"
          ]
        }
      ]
    },
    {
      "cell_type": "markdown",
      "source": [
        "***Algorithm:***\n",
        "The provided code solves the \"Minimum Window Substring\" problem using the sliding window technique and a character frequency approach. It iterates through the given string s using two pointers (left and right) to define a window. The algorithm maintains two counters, target_count and window_chars, to track character frequencies in the target string t and the current window, respectively. It ensures that the current window contains all the characters from t, while optimizing the window size to find the minimum substring.\n",
        "\n",
        "1. Initialize counters and pointers.\n",
        "2. Iterate through the string while sliding the window using the right pointer.\n",
        "3. Update character counts in the window. If a character count matches the required count from t, increment formed_chars.\n",
        "4. While all required characters are in the window, adjust the window size from the left side to minimize the substring length.\n",
        "5. Continue sliding the window and updating the result substring until the end of the input string is reached.\n",
        "6. The code returns the minimum window substring that contains all characters from the target string t. The provided example demonstrates its usage with the input strings \"ADOBECODEBANC\" and \"ABC\", outputting \"BANC\" as the minimum window substring."
      ],
      "metadata": {
        "id": "ihW2r-kpnZV5"
      }
    },
    {
      "cell_type": "code",
      "source": [],
      "metadata": {
        "id": "QghsVTdxnC2N"
      },
      "execution_count": null,
      "outputs": []
    }
  ]
}