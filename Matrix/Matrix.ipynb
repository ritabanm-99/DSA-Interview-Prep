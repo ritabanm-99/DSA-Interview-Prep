{
  "nbformat": 4,
  "nbformat_minor": 0,
  "metadata": {
    "colab": {
      "provenance": []
    },
    "kernelspec": {
      "name": "python3",
      "display_name": "Python 3"
    },
    "language_info": {
      "name": "python"
    }
  },
  "cells": [
    {
      "cell_type": "markdown",
      "source": [
        "# Top Matrix Problems on leetcode\n"
      ],
      "metadata": {
        "id": "fHf4NC_KmEYM"
      }
    },
    {
      "cell_type": "markdown",
      "source": [
        "1. **Valid Soduku:**\n",
        "\n",
        "***Problem statement:***\n",
        "\n",
        "Determine if a 9 x 9 Sudoku board is valid. Only the filled cells need to be validated according to the following rules:\n",
        "\n",
        "Each row must contain the digits 1-9 without repetition.\n",
        "Each column must contain the digits 1-9 without repetition.\n",
        "Each of the nine 3 x 3 sub-boxes of the grid must contain the digits 1-9 without repetition.\n",
        "Note:\n",
        "\n",
        "A Sudoku board (partially filled) could be valid but is not necessarily solvable.\n",
        "Only the filled cells need to be validated according to the mentioned rules.\n",
        "\n",
        "***Reference:*** https://leetcode.com/problems/valid-sudoku/?envType=study-plan-v2&envId=top-interview-150"
      ],
      "metadata": {
        "id": "J2PT4jzpmLlb"
      }
    },
    {
      "cell_type": "code",
      "execution_count": 8,
      "metadata": {
        "colab": {
          "base_uri": "https://localhost:8080/"
        },
        "id": "XqdfxyDumBve",
        "outputId": "a0c4fccd-3b23-44c5-9c73-ab8de270a288"
      },
      "outputs": [
        {
          "output_type": "stream",
          "name": "stdout",
          "text": [
            "True\n"
          ]
        }
      ],
      "source": [
        "def isValidSudoku(board):\n",
        "    # Create sets to track encountered numbers in rows, columns, and boxes\n",
        "    rows = [set() for _ in range(9)]\n",
        "    cols = [set() for _ in range(9)]\n",
        "    boxes = [set() for _ in range(9)]\n",
        "\n",
        "    # Traverse the Sudoku board\n",
        "    for i in range(9):\n",
        "        for j in range(9):\n",
        "            val = board[i][j]\n",
        "            if val != '.':\n",
        "                # Check for duplicates in rows, columns, and boxes\n",
        "                if val in rows[i] or val in cols[j] or val in boxes[(i // 3) * 3 + (j // 3)]:\n",
        "                    return False\n",
        "                # Add encountered numbers to the corresponding sets\n",
        "                rows[i].add(val)\n",
        "                cols[j].add(val)\n",
        "                boxes[(i // 3) * 3 + (j // 3)].add(val)\n",
        "\n",
        "    # If no duplicates found, the Sudoku board is valid\n",
        "    return True\n",
        "\n",
        "# Example Sudoku board\n",
        "board = [\n",
        "    [\"5\",\"3\",\".\",\".\",\"7\",\".\",\".\",\".\",\".\"],\n",
        "    [\"6\",\".\",\".\",\"1\",\"9\",\"5\",\".\",\".\",\".\"],\n",
        "    [\".\",\"9\",\"8\",\".\",\".\",\".\",\".\",\"6\",\".\"],\n",
        "    [\"8\",\".\",\".\",\".\",\"6\",\".\",\".\",\".\",\"3\"],\n",
        "    [\"4\",\".\",\".\",\"8\",\".\",\"3\",\".\",\".\",\"1\"],\n",
        "    [\"7\",\".\",\".\",\".\",\"2\",\".\",\".\",\".\",\"6\"],\n",
        "    [\".\",\"6\",\".\",\".\",\".\",\".\",\"2\",\"8\",\".\"],\n",
        "    [\".\",\".\",\".\",\"4\",\"1\",\"9\",\".\",\".\",\"5\"],\n",
        "    [\".\",\".\",\".\",\".\",\"8\",\".\",\".\",\"7\",\"9\"]\n",
        "]\n",
        "\n",
        "result = isValidSudoku(board)\n",
        "print(result)  # Should print True or False depending on the board's validity\n"
      ]
    },
    {
      "cell_type": "markdown",
      "source": [
        "**Algorithm:**\n",
        "\n",
        "The code defines a function isValidSudoku that checks if a given Sudoku board is valid by using sets to track numbers in rows, columns, and boxes.\n",
        "Three lists of sets are created to represent rows, columns, and 3x3 boxes. Each set will store encountered numbers.\n",
        "The code iterates through each cell of the board, checking for duplicate numbers in the corresponding row, column, and box.\n",
        "If a duplicate is found, the function returns False, indicating an invalid board; otherwise, numbers are added to sets and the function returns True if the iteration completes without duplicates.\n",
        "An example Sudoku board is provided, and the result of isValidSudoku is printed, showing whether the board is valid or not."
      ],
      "metadata": {
        "id": "PeN0B-dimwP5"
      }
    },
    {
      "cell_type": "markdown",
      "source": [
        "2. **Spiral matrix:**\n",
        "\n",
        "Given an m x n matrix, return all elements of the matrix in spiral order.\n",
        "\n",
        "**Reference:** https://leetcode.com/problems/spiral-matrix/?envType=study-plan-v2&envId=top-interview-150"
      ],
      "metadata": {
        "id": "4YYtJSMyneDZ"
      }
    },
    {
      "cell_type": "code",
      "source": [
        "class Solution:\n",
        "    def spiralOrder(self, matrix):\n",
        "        if not matrix:\n",
        "            return []\n",
        "\n",
        "        top, bottom, left, right = 0, len(matrix) - 1, 0, len(matrix[0]) - 1\n",
        "        result = []\n",
        "\n",
        "        while top <= bottom and left <= right:\n",
        "            # Traverse top row\n",
        "            for i in range(left, right + 1):\n",
        "                result.append(matrix[top][i])\n",
        "            top += 1\n",
        "\n",
        "            # Traverse right column\n",
        "            for i in range(top, bottom + 1):\n",
        "                result.append(matrix[i][right])\n",
        "            right -= 1\n",
        "\n",
        "            # Traverse bottom row\n",
        "            if top <= bottom:\n",
        "                for i in range(right, left - 1, -1):\n",
        "                    result.append(matrix[bottom][i])\n",
        "                bottom -= 1\n",
        "\n",
        "            # Traverse left column\n",
        "            if left <= right:\n",
        "                for i in range(bottom, top - 1, -1):\n",
        "                    result.append(matrix[i][left])\n",
        "                left += 1\n",
        "\n",
        "        return result\n",
        "\n",
        "# Test the solution\n",
        "matrix = [\n",
        "    [1, 2, 3],\n",
        "    [4, 5, 6],\n",
        "    [7, 8, 9]\n",
        "]\n",
        "\n",
        "solution = Solution()\n",
        "result = solution.spiralOrder(matrix)\n",
        "print(result)  # Should print [1, 2, 3, 6, 9, 8, 7, 4, 5]\n"
      ],
      "metadata": {
        "colab": {
          "base_uri": "https://localhost:8080/"
        },
        "id": "Zhl-StL7myko",
        "outputId": "42d3a897-01bd-440c-f310-11ced77d0466"
      },
      "execution_count": 9,
      "outputs": [
        {
          "output_type": "stream",
          "name": "stdout",
          "text": [
            "[1, 2, 3, 6, 9, 8, 7, 4, 5]\n"
          ]
        }
      ]
    },
    {
      "cell_type": "markdown",
      "source": [
        "**Algorithm:**\n",
        "\n",
        "A class Solution defines a method spiralOrder to traverse a 2D matrix in spiral order.\n",
        "The method initializes boundaries (top, bottom, left, right) and an empty list (result).\n",
        "Using boundary checks and while loop, it iterates through matrix rows and columns, appending elements to result in spiral order.\n",
        "After traversing all four directions, it adjusts boundaries and continues until boundaries meet.\n",
        "The spiral order traversal of the input matrix is returned as result."
      ],
      "metadata": {
        "id": "5FN58d3Gn7i2"
      }
    },
    {
      "cell_type": "markdown",
      "source": [
        "3. **Rotate Image:**\n",
        "\n",
        "You are given an n x n 2D matrix representing an image, rotate the image by 90 degrees (clockwise).\n",
        "\n",
        "You have to rotate the image in-place, which means you have to modify the input 2D matrix directly. DO NOT allocate another 2D matrix and do the rotation.\n",
        "\n",
        "***Reference:*** https://leetcode.com/problems/rotate-image/?envType=study-plan-v2&envId=top-interview-150"
      ],
      "metadata": {
        "id": "iIS5RztKoOxE"
      }
    },
    {
      "cell_type": "code",
      "source": [
        "def rotate( matrix):\n",
        "        n = len(matrix)\n",
        "\n",
        "        # Transpose the matrix\n",
        "        for i in range(n):\n",
        "            for j in range(i, n):\n",
        "                matrix[i][j], matrix[j][i] = matrix[j][i], matrix[i][j]\n",
        "\n",
        "        # Reverse each row\n",
        "        for i in range(n):\n",
        "            matrix[i] = matrix[i][::-1]\n",
        "\n",
        "# Test the solution\n",
        "matrix = [\n",
        "    [1, 2, 3],\n",
        "    [4, 5, 6],\n",
        "    [7, 8, 9]\n",
        "]\n",
        "\n",
        "\n",
        "print(matrix)\n",
        "rotate(matrix)\n",
        "print(matrix)  # Should print the rotated matrix\n"
      ],
      "metadata": {
        "colab": {
          "base_uri": "https://localhost:8080/"
        },
        "id": "q3wDXcAdoBdT",
        "outputId": "79aebac7-d1a0-4f2e-e3cd-ac91b65b8ae6"
      },
      "execution_count": 14,
      "outputs": [
        {
          "output_type": "stream",
          "name": "stdout",
          "text": [
            "[[1, 2, 3], [4, 5, 6], [7, 8, 9]]\n",
            "[[7, 4, 1], [8, 5, 2], [9, 6, 3]]\n"
          ]
        }
      ]
    },
    {
      "cell_type": "markdown",
      "source": [
        "**Algorithm:**\n",
        "\n",
        "The rotate method is used to perform an in-place 90-degree clockwise rotation of an input N x N matrix.\n",
        "The method transposes the matrix by swapping elements along the main diagonal, effectively reflecting it along that diagonal.\n",
        "After transposition, each row is reversed, completing the rotation operation.\n",
        "The provided test matrix is rotated using the rotate method of the class instance, and the rotated matrix is printed.\n",
        "The code efficiently achieves the desired matrix rotation without using extra memory, by transposing and reversing rows."
      ],
      "metadata": {
        "id": "VjOAMsYApEU4"
      }
    },
    {
      "cell_type": "markdown",
      "source": [
        "3. Set Matrix Zeroes\n",
        "\n",
        "Given an m x n integer matrix matrix, if an element is 0, set its entire row and column to 0's.\n",
        "\n",
        "***Reference:*** https://leetcode.com/problems/set-matrix-zeroes/?envType=study-plan-v2&envId=top-interview-150:"
      ],
      "metadata": {
        "id": "BoBW2lOoovwv"
      }
    },
    {
      "cell_type": "code",
      "source": [
        "def setZeroes(matrix):\n",
        "    rows_with_zero = set()\n",
        "    cols_with_zero = set()\n",
        "    rows = len(matrix)\n",
        "    cols = len(matrix[0])\n",
        "\n",
        "    # Find rows and columns with zeros\n",
        "    for i in range(rows):\n",
        "        for j in range(cols):\n",
        "            if matrix[i][j] == 0:\n",
        "                rows_with_zero.add(i)\n",
        "                cols_with_zero.add(j)\n",
        "\n",
        "    # Set rows and columns with zeros to zero\n",
        "    for i in range(rows):\n",
        "        for j in range(cols):\n",
        "            if i in rows_with_zero or j in cols_with_zero:\n",
        "                matrix[i][j] = 0\n",
        "\n",
        "# Testing the solution\n",
        "matrix = [\n",
        "    [1, 2, 3],\n",
        "    [4, 0, 6],\n",
        "    [7, 8, 9]\n",
        "]\n",
        "\n",
        "setZeroes(matrix)\n",
        "print(matrix)  # Should print the modified matrix\n"
      ],
      "metadata": {
        "colab": {
          "base_uri": "https://localhost:8080/"
        },
        "id": "r25KCNGCom_n",
        "outputId": "b81c454b-e04e-4886-c226-8406b92ca40a"
      },
      "execution_count": 15,
      "outputs": [
        {
          "output_type": "stream",
          "name": "stdout",
          "text": [
            "[[1, 0, 3], [0, 0, 0], [7, 0, 9]]\n"
          ]
        }
      ]
    },
    {
      "cell_type": "markdown",
      "source": [
        "**Algorithm:**\n",
        "\n",
        "The function setZeroes identifies and modifies a given matrix in-place so that if an element is 0, its entire row and column are set to 0.\n",
        "Two sets, rows_with_zero and cols_with_zero, store indices of rows and columns containing zeros.\n",
        "In the first pass, the code finds and stores indices of zero elements in the sets.\n",
        "In the second pass, it iterates through the matrix and sets elements to 0 if their row or column index is stored in the sets.\n",
        "The provided test case demonstrates applying the function to modify a matrix accordingly."
      ],
      "metadata": {
        "id": "p59NUyRTpeyo"
      }
    },
    {
      "cell_type": "markdown",
      "source": [
        "**4. Game of Life:**\n",
        "\n",
        "According to Wikipedia's article: \"The Game of Life, also known simply as Life, is a cellular automaton devised by the British mathematician John Horton Conway in 1970.\"\n",
        "\n",
        "The board is made up of an m x n grid of cells, where each cell has an initial state: live (represented by a 1) or dead (represented by a 0). Each cell interacts with its eight neighbors (horizontal, vertical, diagonal) using the following four rules (taken from the above Wikipedia article):\n",
        "\n",
        "Any live cell with fewer than two live neighbors dies as if caused by under-population.\n",
        "Any live cell with two or three live neighbors lives on to the next generation.\n",
        "Any live cell with more than three live neighbors dies, as if by over-population.\n",
        "Any dead cell with exactly three live neighbors becomes a live cell, as if by reproduction.\n",
        "The next state is created by applying the above rules simultaneously to every cell in the current state, where births and deaths occur simultaneously. Given the current state of the m x n grid board, return the next state.\n",
        "\n",
        "\n",
        "***Reference:*** https://leetcode.com/problems/game-of-life/?envType=study-plan-v2&envId=top-interview-150"
      ],
      "metadata": {
        "id": "Rocv_qbgpzjR"
      }
    },
    {
      "cell_type": "code",
      "source": [
        "def gameOfLife(board):\n",
        "    rows = len(board)\n",
        "    cols = len(board[0])\n",
        "    directions = [(0, 1), (0, -1), (1, 0), (-1, 0), (1, 1), (1, -1), (-1, 1), (-1, -1)]\n",
        "\n",
        "    def count_live_neighbors(row, col):\n",
        "        count = 0\n",
        "        for dr, dc in directions:\n",
        "            nr, nc = row + dr, col + dc\n",
        "            # Check if the neighbor is within the bounds of the board and if it's a live cell (1) or dying cell (-1)\n",
        "            if 0 <= nr < rows and 0 <= nc < cols and board[nr][nc] in (1, -1):\n",
        "                count += 1\n",
        "        return count\n",
        "\n",
        "    # Iterate through each cell in the board\n",
        "    for i in range(rows):\n",
        "        for j in range(cols):\n",
        "            live_neighbors = count_live_neighbors(i, j)\n",
        "            if board[i][j] == 1 and (live_neighbors < 2 or live_neighbors > 3):\n",
        "                # Any live cell with fewer than 2 or more than 3 live neighbors becomes a dying cell (-1)\n",
        "                board[i][j] = -1\n",
        "            if board[i][j] == 0 and live_neighbors == 3:\n",
        "                # Any dead cell with exactly 3 live neighbors becomes a new live cell (2)\n",
        "                board[i][j] = 2\n",
        "\n",
        "    # Convert dying cells (-1) to dead cells (0) and new live cells (2) to live cells (1)\n",
        "    for i in range(rows):\n",
        "        for j in range(cols):\n",
        "            if board[i][j] == -1:\n",
        "                board[i][j] = 0\n",
        "            elif board[i][j] == 2:\n",
        "                board[i][j] = 1\n",
        "\n",
        "def print_grid(grid):\n",
        "    for row in grid:\n",
        "        print(row)\n",
        "\n",
        "# Test the solution\n",
        "board = [\n",
        "    [0, 1, 0],\n",
        "    [0, 0, 1],\n",
        "    [1, 1, 1],\n",
        "    [0, 0, 0]\n",
        "]\n",
        "\n",
        "print(\"Original Grid:\")\n",
        "print_grid(board)\n",
        "print(\"\\nAfter One Step:\")\n",
        "gameOfLife(board)\n",
        "print_grid(board)\n"
      ],
      "metadata": {
        "colab": {
          "base_uri": "https://localhost:8080/"
        },
        "id": "J_JulVmypg-x",
        "outputId": "35820ffe-b5dd-469d-b8fb-a90a2857bfce"
      },
      "execution_count": 18,
      "outputs": [
        {
          "output_type": "stream",
          "name": "stdout",
          "text": [
            "Original Grid:\n",
            "[0, 1, 0]\n",
            "[0, 0, 1]\n",
            "[1, 1, 1]\n",
            "[0, 0, 0]\n",
            "\n",
            "After One Step:\n",
            "[0, 0, 0]\n",
            "[1, 0, 1]\n",
            "[0, 1, 1]\n",
            "[0, 1, 0]\n"
          ]
        }
      ]
    },
    {
      "cell_type": "markdown",
      "source": [
        "**Algorithm:**\n",
        "The gameOfLife function simulates the evolution of Conway's Game of Life by iterating through each cell, counting live neighbors, and updating the grid based on certain rules.\n",
        "It defines valid directions for checking neighbors and a helper function count_live_neighbors to calculate the number of live neighbors around a cell.\n",
        "The function updates cell status based on the rules: a live cell with <2 or >3 live neighbors becomes -1, and a dead cell with 3 live neighbors becomes 2.\n",
        "After processing all cells, the function converts -1 to dead (0) and 2 to live (1) to get the next state.\n",
        "Provided test case demonstrates simulating one step of the game's evolution and prints both the original and updated grids"
      ],
      "metadata": {
        "id": "TI9SZfbQqNsJ"
      }
    }
  ]
}